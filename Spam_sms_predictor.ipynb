{
 "cells": [
  {
   "cell_type": "code",
   "execution_count": 1,
   "id": "01ac5b5a",
   "metadata": {},
   "outputs": [],
   "source": [
    "import numpy as np\n",
    "import pandas as pd\n",
    "import matplotlib.pyplot as plt\n",
    "import nltk\n",
    "import seaborn as sns\n",
    "from nltk.stem.porter import PorterStemmer\n",
    "from wordcloud import WordCloud\n",
    "from sklearn.feature_extraction.text import CountVectorizer,TfidfVectorizer\n",
    "from sklearn.model_selection import train_test_split\n",
    "from sklearn.naive_bayes import GaussianNB,MultinomialNB,BernoulliNB ##Naive-bayes classifier\n",
    "from sklearn.metrics import accuracy_score,confusion_matrix,precision_score"
   ]
  },
  {
   "cell_type": "code",
   "execution_count": 2,
   "id": "cf15a553",
   "metadata": {
    "scrolled": true
   },
   "outputs": [
    {
     "data": {
      "text/html": [
       "<div>\n",
       "<style scoped>\n",
       "    .dataframe tbody tr th:only-of-type {\n",
       "        vertical-align: middle;\n",
       "    }\n",
       "\n",
       "    .dataframe tbody tr th {\n",
       "        vertical-align: top;\n",
       "    }\n",
       "\n",
       "    .dataframe thead th {\n",
       "        text-align: right;\n",
       "    }\n",
       "</style>\n",
       "<table border=\"1\" class=\"dataframe\">\n",
       "  <thead>\n",
       "    <tr style=\"text-align: right;\">\n",
       "      <th></th>\n",
       "      <th>v1</th>\n",
       "      <th>v2</th>\n",
       "      <th>Unnamed: 2</th>\n",
       "      <th>Unnamed: 3</th>\n",
       "      <th>Unnamed: 4</th>\n",
       "    </tr>\n",
       "  </thead>\n",
       "  <tbody>\n",
       "    <tr>\n",
       "      <th>0</th>\n",
       "      <td>ham</td>\n",
       "      <td>Go until jurong point, crazy.. Available only ...</td>\n",
       "      <td>NaN</td>\n",
       "      <td>NaN</td>\n",
       "      <td>NaN</td>\n",
       "    </tr>\n",
       "    <tr>\n",
       "      <th>1</th>\n",
       "      <td>ham</td>\n",
       "      <td>Ok lar... Joking wif u oni...</td>\n",
       "      <td>NaN</td>\n",
       "      <td>NaN</td>\n",
       "      <td>NaN</td>\n",
       "    </tr>\n",
       "    <tr>\n",
       "      <th>2</th>\n",
       "      <td>spam</td>\n",
       "      <td>Free entry in 2 a wkly comp to win FA Cup fina...</td>\n",
       "      <td>NaN</td>\n",
       "      <td>NaN</td>\n",
       "      <td>NaN</td>\n",
       "    </tr>\n",
       "    <tr>\n",
       "      <th>3</th>\n",
       "      <td>ham</td>\n",
       "      <td>U dun say so early hor... U c already then say...</td>\n",
       "      <td>NaN</td>\n",
       "      <td>NaN</td>\n",
       "      <td>NaN</td>\n",
       "    </tr>\n",
       "    <tr>\n",
       "      <th>4</th>\n",
       "      <td>ham</td>\n",
       "      <td>Nah I don't think he goes to usf, he lives aro...</td>\n",
       "      <td>NaN</td>\n",
       "      <td>NaN</td>\n",
       "      <td>NaN</td>\n",
       "    </tr>\n",
       "  </tbody>\n",
       "</table>\n",
       "</div>"
      ],
      "text/plain": [
       "     v1                                                 v2 Unnamed: 2  \\\n",
       "0   ham  Go until jurong point, crazy.. Available only ...        NaN   \n",
       "1   ham                      Ok lar... Joking wif u oni...        NaN   \n",
       "2  spam  Free entry in 2 a wkly comp to win FA Cup fina...        NaN   \n",
       "3   ham  U dun say so early hor... U c already then say...        NaN   \n",
       "4   ham  Nah I don't think he goes to usf, he lives aro...        NaN   \n",
       "\n",
       "  Unnamed: 3 Unnamed: 4  \n",
       "0        NaN        NaN  \n",
       "1        NaN        NaN  \n",
       "2        NaN        NaN  \n",
       "3        NaN        NaN  \n",
       "4        NaN        NaN  "
      ]
     },
     "execution_count": 2,
     "metadata": {},
     "output_type": "execute_result"
    }
   ],
   "source": [
    "df = pd.read_csv('spam.csv')\n",
    "df.head()"
   ]
  },
  {
   "cell_type": "code",
   "execution_count": 3,
   "id": "eebfa70e",
   "metadata": {},
   "outputs": [
    {
     "data": {
      "text/plain": [
       "(5572, 5)"
      ]
     },
     "execution_count": 3,
     "metadata": {},
     "output_type": "execute_result"
    }
   ],
   "source": [
    "df.shape"
   ]
  },
  {
   "cell_type": "markdown",
   "id": "6b55bd89",
   "metadata": {},
   "source": [
    "# Data Cleaning"
   ]
  },
  {
   "cell_type": "code",
   "execution_count": 4,
   "id": "acdf593e",
   "metadata": {},
   "outputs": [
    {
     "name": "stdout",
     "output_type": "stream",
     "text": [
      "<class 'pandas.core.frame.DataFrame'>\n",
      "RangeIndex: 5572 entries, 0 to 5571\n",
      "Data columns (total 5 columns):\n",
      " #   Column      Non-Null Count  Dtype \n",
      "---  ------      --------------  ----- \n",
      " 0   v1          5572 non-null   object\n",
      " 1   v2          5572 non-null   object\n",
      " 2   Unnamed: 2  50 non-null     object\n",
      " 3   Unnamed: 3  12 non-null     object\n",
      " 4   Unnamed: 4  6 non-null      object\n",
      "dtypes: object(5)\n",
      "memory usage: 217.8+ KB\n"
     ]
    }
   ],
   "source": [
    "df.info()"
   ]
  },
  {
   "cell_type": "code",
   "execution_count": 5,
   "id": "bdd1946c",
   "metadata": {},
   "outputs": [
    {
     "data": {
      "text/plain": [
       "v1               0\n",
       "v2               0\n",
       "Unnamed: 2    5522\n",
       "Unnamed: 3    5560\n",
       "Unnamed: 4    5566\n",
       "dtype: int64"
      ]
     },
     "execution_count": 5,
     "metadata": {},
     "output_type": "execute_result"
    }
   ],
   "source": [
    "df.isnull().sum()"
   ]
  },
  {
   "cell_type": "code",
   "execution_count": 6,
   "id": "cf7d009b",
   "metadata": {},
   "outputs": [],
   "source": [
    "df.drop(columns=['Unnamed: 2','Unnamed: 3','Unnamed: 4'],inplace=True)"
   ]
  },
  {
   "cell_type": "code",
   "execution_count": 7,
   "id": "1b5c4b7a",
   "metadata": {},
   "outputs": [
    {
     "data": {
      "text/html": [
       "<div>\n",
       "<style scoped>\n",
       "    .dataframe tbody tr th:only-of-type {\n",
       "        vertical-align: middle;\n",
       "    }\n",
       "\n",
       "    .dataframe tbody tr th {\n",
       "        vertical-align: top;\n",
       "    }\n",
       "\n",
       "    .dataframe thead th {\n",
       "        text-align: right;\n",
       "    }\n",
       "</style>\n",
       "<table border=\"1\" class=\"dataframe\">\n",
       "  <thead>\n",
       "    <tr style=\"text-align: right;\">\n",
       "      <th></th>\n",
       "      <th>v1</th>\n",
       "      <th>v2</th>\n",
       "    </tr>\n",
       "  </thead>\n",
       "  <tbody>\n",
       "    <tr>\n",
       "      <th>0</th>\n",
       "      <td>ham</td>\n",
       "      <td>Go until jurong point, crazy.. Available only ...</td>\n",
       "    </tr>\n",
       "    <tr>\n",
       "      <th>1</th>\n",
       "      <td>ham</td>\n",
       "      <td>Ok lar... Joking wif u oni...</td>\n",
       "    </tr>\n",
       "    <tr>\n",
       "      <th>2</th>\n",
       "      <td>spam</td>\n",
       "      <td>Free entry in 2 a wkly comp to win FA Cup fina...</td>\n",
       "    </tr>\n",
       "    <tr>\n",
       "      <th>3</th>\n",
       "      <td>ham</td>\n",
       "      <td>U dun say so early hor... U c already then say...</td>\n",
       "    </tr>\n",
       "    <tr>\n",
       "      <th>4</th>\n",
       "      <td>ham</td>\n",
       "      <td>Nah I don't think he goes to usf, he lives aro...</td>\n",
       "    </tr>\n",
       "  </tbody>\n",
       "</table>\n",
       "</div>"
      ],
      "text/plain": [
       "     v1                                                 v2\n",
       "0   ham  Go until jurong point, crazy.. Available only ...\n",
       "1   ham                      Ok lar... Joking wif u oni...\n",
       "2  spam  Free entry in 2 a wkly comp to win FA Cup fina...\n",
       "3   ham  U dun say so early hor... U c already then say...\n",
       "4   ham  Nah I don't think he goes to usf, he lives aro..."
      ]
     },
     "execution_count": 7,
     "metadata": {},
     "output_type": "execute_result"
    }
   ],
   "source": [
    "df.head()"
   ]
  },
  {
   "cell_type": "code",
   "execution_count": 8,
   "id": "3e3413b7",
   "metadata": {},
   "outputs": [
    {
     "data": {
      "text/html": [
       "<div>\n",
       "<style scoped>\n",
       "    .dataframe tbody tr th:only-of-type {\n",
       "        vertical-align: middle;\n",
       "    }\n",
       "\n",
       "    .dataframe tbody tr th {\n",
       "        vertical-align: top;\n",
       "    }\n",
       "\n",
       "    .dataframe thead th {\n",
       "        text-align: right;\n",
       "    }\n",
       "</style>\n",
       "<table border=\"1\" class=\"dataframe\">\n",
       "  <thead>\n",
       "    <tr style=\"text-align: right;\">\n",
       "      <th></th>\n",
       "      <th>target</th>\n",
       "      <th>text</th>\n",
       "    </tr>\n",
       "  </thead>\n",
       "  <tbody>\n",
       "    <tr>\n",
       "      <th>0</th>\n",
       "      <td>ham</td>\n",
       "      <td>Go until jurong point, crazy.. Available only ...</td>\n",
       "    </tr>\n",
       "    <tr>\n",
       "      <th>1</th>\n",
       "      <td>ham</td>\n",
       "      <td>Ok lar... Joking wif u oni...</td>\n",
       "    </tr>\n",
       "    <tr>\n",
       "      <th>2</th>\n",
       "      <td>spam</td>\n",
       "      <td>Free entry in 2 a wkly comp to win FA Cup fina...</td>\n",
       "    </tr>\n",
       "    <tr>\n",
       "      <th>3</th>\n",
       "      <td>ham</td>\n",
       "      <td>U dun say so early hor... U c already then say...</td>\n",
       "    </tr>\n",
       "    <tr>\n",
       "      <th>4</th>\n",
       "      <td>ham</td>\n",
       "      <td>Nah I don't think he goes to usf, he lives aro...</td>\n",
       "    </tr>\n",
       "  </tbody>\n",
       "</table>\n",
       "</div>"
      ],
      "text/plain": [
       "  target                                               text\n",
       "0    ham  Go until jurong point, crazy.. Available only ...\n",
       "1    ham                      Ok lar... Joking wif u oni...\n",
       "2   spam  Free entry in 2 a wkly comp to win FA Cup fina...\n",
       "3    ham  U dun say so early hor... U c already then say...\n",
       "4    ham  Nah I don't think he goes to usf, he lives aro..."
      ]
     },
     "execution_count": 8,
     "metadata": {},
     "output_type": "execute_result"
    }
   ],
   "source": [
    "df.rename(columns={'v1':'target','v2':'text'},inplace=True)\n",
    "df.head()"
   ]
  },
  {
   "cell_type": "code",
   "execution_count": 9,
   "id": "6e7453dd",
   "metadata": {},
   "outputs": [],
   "source": [
    "## Converting text-target to numerical-target \n",
    "from sklearn.preprocessing import LabelEncoder\n",
    "encoder = LabelEncoder()\n",
    "df['target'] = encoder.fit_transform(df['target'])"
   ]
  },
  {
   "cell_type": "code",
   "execution_count": 10,
   "id": "ff2ef04f",
   "metadata": {},
   "outputs": [
    {
     "data": {
      "text/html": [
       "<div>\n",
       "<style scoped>\n",
       "    .dataframe tbody tr th:only-of-type {\n",
       "        vertical-align: middle;\n",
       "    }\n",
       "\n",
       "    .dataframe tbody tr th {\n",
       "        vertical-align: top;\n",
       "    }\n",
       "\n",
       "    .dataframe thead th {\n",
       "        text-align: right;\n",
       "    }\n",
       "</style>\n",
       "<table border=\"1\" class=\"dataframe\">\n",
       "  <thead>\n",
       "    <tr style=\"text-align: right;\">\n",
       "      <th></th>\n",
       "      <th>target</th>\n",
       "      <th>text</th>\n",
       "    </tr>\n",
       "  </thead>\n",
       "  <tbody>\n",
       "    <tr>\n",
       "      <th>0</th>\n",
       "      <td>0</td>\n",
       "      <td>Go until jurong point, crazy.. Available only ...</td>\n",
       "    </tr>\n",
       "    <tr>\n",
       "      <th>1</th>\n",
       "      <td>0</td>\n",
       "      <td>Ok lar... Joking wif u oni...</td>\n",
       "    </tr>\n",
       "    <tr>\n",
       "      <th>2</th>\n",
       "      <td>1</td>\n",
       "      <td>Free entry in 2 a wkly comp to win FA Cup fina...</td>\n",
       "    </tr>\n",
       "    <tr>\n",
       "      <th>3</th>\n",
       "      <td>0</td>\n",
       "      <td>U dun say so early hor... U c already then say...</td>\n",
       "    </tr>\n",
       "    <tr>\n",
       "      <th>4</th>\n",
       "      <td>0</td>\n",
       "      <td>Nah I don't think he goes to usf, he lives aro...</td>\n",
       "    </tr>\n",
       "  </tbody>\n",
       "</table>\n",
       "</div>"
      ],
      "text/plain": [
       "   target                                               text\n",
       "0       0  Go until jurong point, crazy.. Available only ...\n",
       "1       0                      Ok lar... Joking wif u oni...\n",
       "2       1  Free entry in 2 a wkly comp to win FA Cup fina...\n",
       "3       0  U dun say so early hor... U c already then say...\n",
       "4       0  Nah I don't think he goes to usf, he lives aro..."
      ]
     },
     "execution_count": 10,
     "metadata": {},
     "output_type": "execute_result"
    }
   ],
   "source": [
    "df.head()"
   ]
  },
  {
   "cell_type": "code",
   "execution_count": 11,
   "id": "c15ca245",
   "metadata": {},
   "outputs": [
    {
     "data": {
      "text/plain": [
       "target    0\n",
       "text      0\n",
       "dtype: int64"
      ]
     },
     "execution_count": 11,
     "metadata": {},
     "output_type": "execute_result"
    }
   ],
   "source": [
    "df.isnull().sum()"
   ]
  },
  {
   "cell_type": "code",
   "execution_count": 12,
   "id": "73acdae2",
   "metadata": {},
   "outputs": [],
   "source": [
    "df = df.drop_duplicates(keep=\"first\")"
   ]
  },
  {
   "cell_type": "code",
   "execution_count": 13,
   "id": "e6e466ba",
   "metadata": {},
   "outputs": [
    {
     "data": {
      "text/plain": [
       "(5169, 2)"
      ]
     },
     "execution_count": 13,
     "metadata": {},
     "output_type": "execute_result"
    }
   ],
   "source": [
    "df.shape"
   ]
  },
  {
   "cell_type": "markdown",
   "id": "fe396428",
   "metadata": {},
   "source": [
    "# Data analysis"
   ]
  },
  {
   "cell_type": "code",
   "execution_count": 14,
   "id": "ac551916",
   "metadata": {},
   "outputs": [
    {
     "data": {
      "text/html": [
       "<div>\n",
       "<style scoped>\n",
       "    .dataframe tbody tr th:only-of-type {\n",
       "        vertical-align: middle;\n",
       "    }\n",
       "\n",
       "    .dataframe tbody tr th {\n",
       "        vertical-align: top;\n",
       "    }\n",
       "\n",
       "    .dataframe thead th {\n",
       "        text-align: right;\n",
       "    }\n",
       "</style>\n",
       "<table border=\"1\" class=\"dataframe\">\n",
       "  <thead>\n",
       "    <tr style=\"text-align: right;\">\n",
       "      <th></th>\n",
       "      <th>target</th>\n",
       "      <th>text</th>\n",
       "    </tr>\n",
       "  </thead>\n",
       "  <tbody>\n",
       "    <tr>\n",
       "      <th>0</th>\n",
       "      <td>0</td>\n",
       "      <td>Go until jurong point, crazy.. Available only ...</td>\n",
       "    </tr>\n",
       "    <tr>\n",
       "      <th>1</th>\n",
       "      <td>0</td>\n",
       "      <td>Ok lar... Joking wif u oni...</td>\n",
       "    </tr>\n",
       "    <tr>\n",
       "      <th>2</th>\n",
       "      <td>1</td>\n",
       "      <td>Free entry in 2 a wkly comp to win FA Cup fina...</td>\n",
       "    </tr>\n",
       "    <tr>\n",
       "      <th>3</th>\n",
       "      <td>0</td>\n",
       "      <td>U dun say so early hor... U c already then say...</td>\n",
       "    </tr>\n",
       "    <tr>\n",
       "      <th>4</th>\n",
       "      <td>0</td>\n",
       "      <td>Nah I don't think he goes to usf, he lives aro...</td>\n",
       "    </tr>\n",
       "  </tbody>\n",
       "</table>\n",
       "</div>"
      ],
      "text/plain": [
       "   target                                               text\n",
       "0       0  Go until jurong point, crazy.. Available only ...\n",
       "1       0                      Ok lar... Joking wif u oni...\n",
       "2       1  Free entry in 2 a wkly comp to win FA Cup fina...\n",
       "3       0  U dun say so early hor... U c already then say...\n",
       "4       0  Nah I don't think he goes to usf, he lives aro..."
      ]
     },
     "execution_count": 14,
     "metadata": {},
     "output_type": "execute_result"
    }
   ],
   "source": [
    "df.head()"
   ]
  },
  {
   "cell_type": "code",
   "execution_count": 15,
   "id": "54b6f14e",
   "metadata": {},
   "outputs": [
    {
     "data": {
      "text/plain": [
       "0    4516\n",
       "1     653\n",
       "Name: target, dtype: int64"
      ]
     },
     "execution_count": 15,
     "metadata": {},
     "output_type": "execute_result"
    }
   ],
   "source": [
    "df[\"target\"].value_counts()"
   ]
  },
  {
   "cell_type": "code",
   "execution_count": 16,
   "id": "6868fa58",
   "metadata": {},
   "outputs": [
    {
     "data": {
      "image/png": "[encoded data removed]",
      "text/plain": [
       "<Figure size 432x288 with 1 Axes>"
      ]
     },
     "metadata": {},
     "output_type": "display_data"
    }
   ],
   "source": [
    "plt.pie(df['target'].value_counts(), labels=['ham','spam'],autopct=\"%0.2f\")\n",
    "plt.show()"
   ]
  },
  {
   "cell_type": "code",
   "execution_count": 17,
   "id": "829a0047",
   "metadata": {},
   "outputs": [
    {
     "name": "stderr",
     "output_type": "stream",
     "text": [
      "[nltk_data] Downloading package punkt to\n",
      "[nltk_data]     C:\\Users\\geeth_glh\\AppData\\Roaming\\nltk_data...\n",
      "[nltk_data]   Package punkt is already up-to-date!\n"
     ]
    },
    {
     "data": {
      "text/plain": [
       "True"
      ]
     },
     "execution_count": 17,
     "metadata": {},
     "output_type": "execute_result"
    }
   ],
   "source": [
    "nltk.download('punkt')"
   ]
  },
  {
   "cell_type": "code",
   "execution_count": 18,
   "id": "286f4853",
   "metadata": {},
   "outputs": [],
   "source": [
    "df['num_characters'] = df['text'].apply(len)"
   ]
  },
  {
   "cell_type": "code",
   "execution_count": 19,
   "id": "e6ff17b9",
   "metadata": {},
   "outputs": [
    {
     "data": {
      "text/html": [
       "<div>\n",
       "<style scoped>\n",
       "    .dataframe tbody tr th:only-of-type {\n",
       "        vertical-align: middle;\n",
       "    }\n",
       "\n",
       "    .dataframe tbody tr th {\n",
       "        vertical-align: top;\n",
       "    }\n",
       "\n",
       "    .dataframe thead th {\n",
       "        text-align: right;\n",
       "    }\n",
       "</style>\n",
       "<table border=\"1\" class=\"dataframe\">\n",
       "  <thead>\n",
       "    <tr style=\"text-align: right;\">\n",
       "      <th></th>\n",
       "      <th>target</th>\n",
       "      <th>text</th>\n",
       "      <th>num_characters</th>\n",
       "    </tr>\n",
       "  </thead>\n",
       "  <tbody>\n",
       "    <tr>\n",
       "      <th>0</th>\n",
       "      <td>0</td>\n",
       "      <td>Go until jurong point, crazy.. Available only ...</td>\n",
       "      <td>111</td>\n",
       "    </tr>\n",
       "    <tr>\n",
       "      <th>1</th>\n",
       "      <td>0</td>\n",
       "      <td>Ok lar... Joking wif u oni...</td>\n",
       "      <td>29</td>\n",
       "    </tr>\n",
       "    <tr>\n",
       "      <th>2</th>\n",
       "      <td>1</td>\n",
       "      <td>Free entry in 2 a wkly comp to win FA Cup fina...</td>\n",
       "      <td>155</td>\n",
       "    </tr>\n",
       "    <tr>\n",
       "      <th>3</th>\n",
       "      <td>0</td>\n",
       "      <td>U dun say so early hor... U c already then say...</td>\n",
       "      <td>49</td>\n",
       "    </tr>\n",
       "    <tr>\n",
       "      <th>4</th>\n",
       "      <td>0</td>\n",
       "      <td>Nah I don't think he goes to usf, he lives aro...</td>\n",
       "      <td>61</td>\n",
       "    </tr>\n",
       "  </tbody>\n",
       "</table>\n",
       "</div>"
      ],
      "text/plain": [
       "   target                                               text  num_characters\n",
       "0       0  Go until jurong point, crazy.. Available only ...             111\n",
       "1       0                      Ok lar... Joking wif u oni...              29\n",
       "2       1  Free entry in 2 a wkly comp to win FA Cup fina...             155\n",
       "3       0  U dun say so early hor... U c already then say...              49\n",
       "4       0  Nah I don't think he goes to usf, he lives aro...              61"
      ]
     },
     "execution_count": 19,
     "metadata": {},
     "output_type": "execute_result"
    }
   ],
   "source": [
    "df.head()"
   ]
  },
  {
   "cell_type": "code",
   "execution_count": 20,
   "id": "6beef7ae",
   "metadata": {},
   "outputs": [],
   "source": [
    "# num of words\n",
    "df['num_words'] = df['text'].apply(lambda x:len(nltk.word_tokenize(x)))"
   ]
  },
  {
   "cell_type": "code",
   "execution_count": 21,
   "id": "f2097681",
   "metadata": {},
   "outputs": [
    {
     "data": {
      "text/html": [
       "<div>\n",
       "<style scoped>\n",
       "    .dataframe tbody tr th:only-of-type {\n",
       "        vertical-align: middle;\n",
       "    }\n",
       "\n",
       "    .dataframe tbody tr th {\n",
       "        vertical-align: top;\n",
       "    }\n",
       "\n",
       "    .dataframe thead th {\n",
       "        text-align: right;\n",
       "    }\n",
       "</style>\n",
       "<table border=\"1\" class=\"dataframe\">\n",
       "  <thead>\n",
       "    <tr style=\"text-align: right;\">\n",
       "      <th></th>\n",
       "      <th>target</th>\n",
       "      <th>text</th>\n",
       "      <th>num_characters</th>\n",
       "      <th>num_words</th>\n",
       "    </tr>\n",
       "  </thead>\n",
       "  <tbody>\n",
       "    <tr>\n",
       "      <th>0</th>\n",
       "      <td>0</td>\n",
       "      <td>Go until jurong point, crazy.. Available only ...</td>\n",
       "      <td>111</td>\n",
       "      <td>24</td>\n",
       "    </tr>\n",
       "    <tr>\n",
       "      <th>1</th>\n",
       "      <td>0</td>\n",
       "      <td>Ok lar... Joking wif u oni...</td>\n",
       "      <td>29</td>\n",
       "      <td>8</td>\n",
       "    </tr>\n",
       "    <tr>\n",
       "      <th>2</th>\n",
       "      <td>1</td>\n",
       "      <td>Free entry in 2 a wkly comp to win FA Cup fina...</td>\n",
       "      <td>155</td>\n",
       "      <td>37</td>\n",
       "    </tr>\n",
       "    <tr>\n",
       "      <th>3</th>\n",
       "      <td>0</td>\n",
       "      <td>U dun say so early hor... U c already then say...</td>\n",
       "      <td>49</td>\n",
       "      <td>13</td>\n",
       "    </tr>\n",
       "    <tr>\n",
       "      <th>4</th>\n",
       "      <td>0</td>\n",
       "      <td>Nah I don't think he goes to usf, he lives aro...</td>\n",
       "      <td>61</td>\n",
       "      <td>15</td>\n",
       "    </tr>\n",
       "  </tbody>\n",
       "</table>\n",
       "</div>"
      ],
      "text/plain": [
       "   target                                               text  num_characters  \\\n",
       "0       0  Go until jurong point, crazy.. Available only ...             111   \n",
       "1       0                      Ok lar... Joking wif u oni...              29   \n",
       "2       1  Free entry in 2 a wkly comp to win FA Cup fina...             155   \n",
       "3       0  U dun say so early hor... U c already then say...              49   \n",
       "4       0  Nah I don't think he goes to usf, he lives aro...              61   \n",
       "\n",
       "   num_words  \n",
       "0         24  \n",
       "1          8  \n",
       "2         37  \n",
       "3         13  \n",
       "4         15  "
      ]
     },
     "execution_count": 21,
     "metadata": {},
     "output_type": "execute_result"
    }
   ],
   "source": [
    "df.head()"
   ]
  },
  {
   "cell_type": "code",
   "execution_count": 22,
   "id": "b9803705",
   "metadata": {},
   "outputs": [
    {
     "data": {
      "text/html": [
       "<div>\n",
       "<style scoped>\n",
       "    .dataframe tbody tr th:only-of-type {\n",
       "        vertical-align: middle;\n",
       "    }\n",
       "\n",
       "    .dataframe tbody tr th {\n",
       "        vertical-align: top;\n",
       "    }\n",
       "\n",
       "    .dataframe thead th {\n",
       "        text-align: right;\n",
       "    }\n",
       "</style>\n",
       "<table border=\"1\" class=\"dataframe\">\n",
       "  <thead>\n",
       "    <tr style=\"text-align: right;\">\n",
       "      <th></th>\n",
       "      <th>target</th>\n",
       "      <th>text</th>\n",
       "      <th>num_characters</th>\n",
       "      <th>num_words</th>\n",
       "      <th>num_sentences</th>\n",
       "    </tr>\n",
       "  </thead>\n",
       "  <tbody>\n",
       "    <tr>\n",
       "      <th>0</th>\n",
       "      <td>0</td>\n",
       "      <td>Go until jurong point, crazy.. Available only ...</td>\n",
       "      <td>111</td>\n",
       "      <td>24</td>\n",
       "      <td>2</td>\n",
       "    </tr>\n",
       "    <tr>\n",
       "      <th>1</th>\n",
       "      <td>0</td>\n",
       "      <td>Ok lar... Joking wif u oni...</td>\n",
       "      <td>29</td>\n",
       "      <td>8</td>\n",
       "      <td>2</td>\n",
       "    </tr>\n",
       "    <tr>\n",
       "      <th>2</th>\n",
       "      <td>1</td>\n",
       "      <td>Free entry in 2 a wkly comp to win FA Cup fina...</td>\n",
       "      <td>155</td>\n",
       "      <td>37</td>\n",
       "      <td>2</td>\n",
       "    </tr>\n",
       "    <tr>\n",
       "      <th>3</th>\n",
       "      <td>0</td>\n",
       "      <td>U dun say so early hor... U c already then say...</td>\n",
       "      <td>49</td>\n",
       "      <td>13</td>\n",
       "      <td>1</td>\n",
       "    </tr>\n",
       "    <tr>\n",
       "      <th>4</th>\n",
       "      <td>0</td>\n",
       "      <td>Nah I don't think he goes to usf, he lives aro...</td>\n",
       "      <td>61</td>\n",
       "      <td>15</td>\n",
       "      <td>1</td>\n",
       "    </tr>\n",
       "  </tbody>\n",
       "</table>\n",
       "</div>"
      ],
      "text/plain": [
       "   target                                               text  num_characters  \\\n",
       "0       0  Go until jurong point, crazy.. Available only ...             111   \n",
       "1       0                      Ok lar... Joking wif u oni...              29   \n",
       "2       1  Free entry in 2 a wkly comp to win FA Cup fina...             155   \n",
       "3       0  U dun say so early hor... U c already then say...              49   \n",
       "4       0  Nah I don't think he goes to usf, he lives aro...              61   \n",
       "\n",
       "   num_words  num_sentences  \n",
       "0         24              2  \n",
       "1          8              2  \n",
       "2         37              2  \n",
       "3         13              1  \n",
       "4         15              1  "
      ]
     },
     "execution_count": 22,
     "metadata": {},
     "output_type": "execute_result"
    }
   ],
   "source": [
    "df['num_sentences'] = df['text'].apply(lambda x:len(nltk.sent_tokenize(x)))\n",
    "df.head()"
   ]
  },
  {
   "cell_type": "code",
   "execution_count": 23,
   "id": "cb216ebc",
   "metadata": {},
   "outputs": [
    {
     "data": {
      "text/html": [
       "<div>\n",
       "<style scoped>\n",
       "    .dataframe tbody tr th:only-of-type {\n",
       "        vertical-align: middle;\n",
       "    }\n",
       "\n",
       "    .dataframe tbody tr th {\n",
       "        vertical-align: top;\n",
       "    }\n",
       "\n",
       "    .dataframe thead th {\n",
       "        text-align: right;\n",
       "    }\n",
       "</style>\n",
       "<table border=\"1\" class=\"dataframe\">\n",
       "  <thead>\n",
       "    <tr style=\"text-align: right;\">\n",
       "      <th></th>\n",
       "      <th>num_characters</th>\n",
       "      <th>num_words</th>\n",
       "      <th>num_sentences</th>\n",
       "    </tr>\n",
       "  </thead>\n",
       "  <tbody>\n",
       "    <tr>\n",
       "      <th>count</th>\n",
       "      <td>5169.000000</td>\n",
       "      <td>5169.000000</td>\n",
       "      <td>5169.000000</td>\n",
       "    </tr>\n",
       "    <tr>\n",
       "      <th>mean</th>\n",
       "      <td>78.923776</td>\n",
       "      <td>18.456375</td>\n",
       "      <td>1.962275</td>\n",
       "    </tr>\n",
       "    <tr>\n",
       "      <th>std</th>\n",
       "      <td>58.174846</td>\n",
       "      <td>13.323322</td>\n",
       "      <td>1.433892</td>\n",
       "    </tr>\n",
       "    <tr>\n",
       "      <th>min</th>\n",
       "      <td>2.000000</td>\n",
       "      <td>1.000000</td>\n",
       "      <td>1.000000</td>\n",
       "    </tr>\n",
       "    <tr>\n",
       "      <th>25%</th>\n",
       "      <td>36.000000</td>\n",
       "      <td>9.000000</td>\n",
       "      <td>1.000000</td>\n",
       "    </tr>\n",
       "    <tr>\n",
       "      <th>50%</th>\n",
       "      <td>60.000000</td>\n",
       "      <td>15.000000</td>\n",
       "      <td>1.000000</td>\n",
       "    </tr>\n",
       "    <tr>\n",
       "      <th>75%</th>\n",
       "      <td>117.000000</td>\n",
       "      <td>26.000000</td>\n",
       "      <td>2.000000</td>\n",
       "    </tr>\n",
       "    <tr>\n",
       "      <th>max</th>\n",
       "      <td>910.000000</td>\n",
       "      <td>220.000000</td>\n",
       "      <td>38.000000</td>\n",
       "    </tr>\n",
       "  </tbody>\n",
       "</table>\n",
       "</div>"
      ],
      "text/plain": [
       "       num_characters    num_words  num_sentences\n",
       "count     5169.000000  5169.000000    5169.000000\n",
       "mean        78.923776    18.456375       1.962275\n",
       "std         58.174846    13.323322       1.433892\n",
       "min          2.000000     1.000000       1.000000\n",
       "25%         36.000000     9.000000       1.000000\n",
       "50%         60.000000    15.000000       1.000000\n",
       "75%        117.000000    26.000000       2.000000\n",
       "max        910.000000   220.000000      38.000000"
      ]
     },
     "execution_count": 23,
     "metadata": {},
     "output_type": "execute_result"
    }
   ],
   "source": [
    "df[['num_characters','num_words','num_sentences']].describe()"
   ]
  },
  {
   "cell_type": "code",
   "execution_count": 24,
   "id": "0233219e",
   "metadata": {},
   "outputs": [
    {
     "data": {
      "text/html": [
       "<div>\n",
       "<style scoped>\n",
       "    .dataframe tbody tr th:only-of-type {\n",
       "        vertical-align: middle;\n",
       "    }\n",
       "\n",
       "    .dataframe tbody tr th {\n",
       "        vertical-align: top;\n",
       "    }\n",
       "\n",
       "    .dataframe thead th {\n",
       "        text-align: right;\n",
       "    }\n",
       "</style>\n",
       "<table border=\"1\" class=\"dataframe\">\n",
       "  <thead>\n",
       "    <tr style=\"text-align: right;\">\n",
       "      <th></th>\n",
       "      <th>target</th>\n",
       "      <th>num_characters</th>\n",
       "      <th>num_words</th>\n",
       "      <th>num_sentences</th>\n",
       "    </tr>\n",
       "  </thead>\n",
       "  <tbody>\n",
       "    <tr>\n",
       "      <th>count</th>\n",
       "      <td>5169.000000</td>\n",
       "      <td>5169.000000</td>\n",
       "      <td>5169.000000</td>\n",
       "      <td>5169.000000</td>\n",
       "    </tr>\n",
       "    <tr>\n",
       "      <th>mean</th>\n",
       "      <td>0.126330</td>\n",
       "      <td>78.923776</td>\n",
       "      <td>18.456375</td>\n",
       "      <td>1.962275</td>\n",
       "    </tr>\n",
       "    <tr>\n",
       "      <th>std</th>\n",
       "      <td>0.332253</td>\n",
       "      <td>58.174846</td>\n",
       "      <td>13.323322</td>\n",
       "      <td>1.433892</td>\n",
       "    </tr>\n",
       "    <tr>\n",
       "      <th>min</th>\n",
       "      <td>0.000000</td>\n",
       "      <td>2.000000</td>\n",
       "      <td>1.000000</td>\n",
       "      <td>1.000000</td>\n",
       "    </tr>\n",
       "    <tr>\n",
       "      <th>25%</th>\n",
       "      <td>0.000000</td>\n",
       "      <td>36.000000</td>\n",
       "      <td>9.000000</td>\n",
       "      <td>1.000000</td>\n",
       "    </tr>\n",
       "    <tr>\n",
       "      <th>50%</th>\n",
       "      <td>0.000000</td>\n",
       "      <td>60.000000</td>\n",
       "      <td>15.000000</td>\n",
       "      <td>1.000000</td>\n",
       "    </tr>\n",
       "    <tr>\n",
       "      <th>75%</th>\n",
       "      <td>0.000000</td>\n",
       "      <td>117.000000</td>\n",
       "      <td>26.000000</td>\n",
       "      <td>2.000000</td>\n",
       "    </tr>\n",
       "    <tr>\n",
       "      <th>max</th>\n",
       "      <td>1.000000</td>\n",
       "      <td>910.000000</td>\n",
       "      <td>220.000000</td>\n",
       "      <td>38.000000</td>\n",
       "    </tr>\n",
       "  </tbody>\n",
       "</table>\n",
       "</div>"
      ],
      "text/plain": [
       "            target  num_characters    num_words  num_sentences\n",
       "count  5169.000000     5169.000000  5169.000000    5169.000000\n",
       "mean      0.126330       78.923776    18.456375       1.962275\n",
       "std       0.332253       58.174846    13.323322       1.433892\n",
       "min       0.000000        2.000000     1.000000       1.000000\n",
       "25%       0.000000       36.000000     9.000000       1.000000\n",
       "50%       0.000000       60.000000    15.000000       1.000000\n",
       "75%       0.000000      117.000000    26.000000       2.000000\n",
       "max       1.000000      910.000000   220.000000      38.000000"
      ]
     },
     "execution_count": 24,
     "metadata": {},
     "output_type": "execute_result"
    }
   ],
   "source": [
    "df.describe()"
   ]
  },
  {
   "cell_type": "code",
   "execution_count": 25,
   "id": "38766af7",
   "metadata": {},
   "outputs": [
    {
     "data": {
      "text/html": [
       "<div>\n",
       "<style scoped>\n",
       "    .dataframe tbody tr th:only-of-type {\n",
       "        vertical-align: middle;\n",
       "    }\n",
       "\n",
       "    .dataframe tbody tr th {\n",
       "        vertical-align: top;\n",
       "    }\n",
       "\n",
       "    .dataframe thead th {\n",
       "        text-align: right;\n",
       "    }\n",
       "</style>\n",
       "<table border=\"1\" class=\"dataframe\">\n",
       "  <thead>\n",
       "    <tr style=\"text-align: right;\">\n",
       "      <th></th>\n",
       "      <th>num_characters</th>\n",
       "      <th>num_words</th>\n",
       "      <th>num_sentences</th>\n",
       "    </tr>\n",
       "  </thead>\n",
       "  <tbody>\n",
       "    <tr>\n",
       "      <th>count</th>\n",
       "      <td>4516.000000</td>\n",
       "      <td>4516.000000</td>\n",
       "      <td>4516.000000</td>\n",
       "    </tr>\n",
       "    <tr>\n",
       "      <th>mean</th>\n",
       "      <td>70.456820</td>\n",
       "      <td>17.123339</td>\n",
       "      <td>1.815545</td>\n",
       "    </tr>\n",
       "    <tr>\n",
       "      <th>std</th>\n",
       "      <td>56.356802</td>\n",
       "      <td>13.491315</td>\n",
       "      <td>1.364098</td>\n",
       "    </tr>\n",
       "    <tr>\n",
       "      <th>min</th>\n",
       "      <td>2.000000</td>\n",
       "      <td>1.000000</td>\n",
       "      <td>1.000000</td>\n",
       "    </tr>\n",
       "    <tr>\n",
       "      <th>25%</th>\n",
       "      <td>34.000000</td>\n",
       "      <td>8.000000</td>\n",
       "      <td>1.000000</td>\n",
       "    </tr>\n",
       "    <tr>\n",
       "      <th>50%</th>\n",
       "      <td>52.000000</td>\n",
       "      <td>13.000000</td>\n",
       "      <td>1.000000</td>\n",
       "    </tr>\n",
       "    <tr>\n",
       "      <th>75%</th>\n",
       "      <td>90.000000</td>\n",
       "      <td>22.000000</td>\n",
       "      <td>2.000000</td>\n",
       "    </tr>\n",
       "    <tr>\n",
       "      <th>max</th>\n",
       "      <td>910.000000</td>\n",
       "      <td>220.000000</td>\n",
       "      <td>38.000000</td>\n",
       "    </tr>\n",
       "  </tbody>\n",
       "</table>\n",
       "</div>"
      ],
      "text/plain": [
       "       num_characters    num_words  num_sentences\n",
       "count     4516.000000  4516.000000    4516.000000\n",
       "mean        70.456820    17.123339       1.815545\n",
       "std         56.356802    13.491315       1.364098\n",
       "min          2.000000     1.000000       1.000000\n",
       "25%         34.000000     8.000000       1.000000\n",
       "50%         52.000000    13.000000       1.000000\n",
       "75%         90.000000    22.000000       2.000000\n",
       "max        910.000000   220.000000      38.000000"
      ]
     },
     "execution_count": 25,
     "metadata": {},
     "output_type": "execute_result"
    }
   ],
   "source": [
    "# ham\n",
    "df[df['target'] == 0][['num_characters','num_words','num_sentences']].describe()"
   ]
  },
  {
   "cell_type": "code",
   "execution_count": 26,
   "id": "0f652cda",
   "metadata": {},
   "outputs": [
    {
     "data": {
      "text/html": [
       "<div>\n",
       "<style scoped>\n",
       "    .dataframe tbody tr th:only-of-type {\n",
       "        vertical-align: middle;\n",
       "    }\n",
       "\n",
       "    .dataframe tbody tr th {\n",
       "        vertical-align: top;\n",
       "    }\n",
       "\n",
       "    .dataframe thead th {\n",
       "        text-align: right;\n",
       "    }\n",
       "</style>\n",
       "<table border=\"1\" class=\"dataframe\">\n",
       "  <thead>\n",
       "    <tr style=\"text-align: right;\">\n",
       "      <th></th>\n",
       "      <th>num_characters</th>\n",
       "      <th>num_words</th>\n",
       "      <th>num_sentences</th>\n",
       "    </tr>\n",
       "  </thead>\n",
       "  <tbody>\n",
       "    <tr>\n",
       "      <th>count</th>\n",
       "      <td>653.000000</td>\n",
       "      <td>653.000000</td>\n",
       "      <td>653.000000</td>\n",
       "    </tr>\n",
       "    <tr>\n",
       "      <th>mean</th>\n",
       "      <td>137.479326</td>\n",
       "      <td>27.675345</td>\n",
       "      <td>2.977029</td>\n",
       "    </tr>\n",
       "    <tr>\n",
       "      <th>std</th>\n",
       "      <td>30.014336</td>\n",
       "      <td>7.011513</td>\n",
       "      <td>1.493676</td>\n",
       "    </tr>\n",
       "    <tr>\n",
       "      <th>min</th>\n",
       "      <td>13.000000</td>\n",
       "      <td>2.000000</td>\n",
       "      <td>1.000000</td>\n",
       "    </tr>\n",
       "    <tr>\n",
       "      <th>25%</th>\n",
       "      <td>131.000000</td>\n",
       "      <td>25.000000</td>\n",
       "      <td>2.000000</td>\n",
       "    </tr>\n",
       "    <tr>\n",
       "      <th>50%</th>\n",
       "      <td>148.000000</td>\n",
       "      <td>29.000000</td>\n",
       "      <td>3.000000</td>\n",
       "    </tr>\n",
       "    <tr>\n",
       "      <th>75%</th>\n",
       "      <td>157.000000</td>\n",
       "      <td>32.000000</td>\n",
       "      <td>4.000000</td>\n",
       "    </tr>\n",
       "    <tr>\n",
       "      <th>max</th>\n",
       "      <td>223.000000</td>\n",
       "      <td>46.000000</td>\n",
       "      <td>9.000000</td>\n",
       "    </tr>\n",
       "  </tbody>\n",
       "</table>\n",
       "</div>"
      ],
      "text/plain": [
       "       num_characters   num_words  num_sentences\n",
       "count      653.000000  653.000000     653.000000\n",
       "mean       137.479326   27.675345       2.977029\n",
       "std         30.014336    7.011513       1.493676\n",
       "min         13.000000    2.000000       1.000000\n",
       "25%        131.000000   25.000000       2.000000\n",
       "50%        148.000000   29.000000       3.000000\n",
       "75%        157.000000   32.000000       4.000000\n",
       "max        223.000000   46.000000       9.000000"
      ]
     },
     "execution_count": 26,
     "metadata": {},
     "output_type": "execute_result"
    }
   ],
   "source": [
    "# spam\n",
    "df[df['target'] == 1][['num_characters','num_words','num_sentences']].describe()"
   ]
  },
  {
   "cell_type": "code",
   "execution_count": 27,
   "id": "4a29f78a",
   "metadata": {},
   "outputs": [
    {
     "data": {
      "text/plain": [
       "0       111\n",
       "1        29\n",
       "3        49\n",
       "4        61\n",
       "6        77\n",
       "       ... \n",
       "5565     12\n",
       "5568     37\n",
       "5569     57\n",
       "5570    125\n",
       "5571     26\n",
       "Name: num_characters, Length: 4516, dtype: int64"
      ]
     },
     "execution_count": 27,
     "metadata": {},
     "output_type": "execute_result"
    }
   ],
   "source": [
    "df[df['target'] == 0]['num_characters']"
   ]
  },
  {
   "cell_type": "code",
   "execution_count": 28,
   "id": "7b077eef",
   "metadata": {},
   "outputs": [
    {
     "data": {
      "text/plain": [
       "<AxesSubplot:xlabel='num_characters', ylabel='Count'>"
      ]
     },
     "execution_count": 28,
     "metadata": {},
     "output_type": "execute_result"
    },
    {
     "data": {
      "image/png": "[encoded data removed]",
      "text/plain": [
       "<Figure size 864x432 with 1 Axes>"
      ]
     },
     "metadata": {
      "needs_background": "light"
     },
     "output_type": "display_data"
    }
   ],
   "source": [
    "plt.figure(figsize=(12,6))\n",
    "sns.histplot(df[df['target'] == 0]['num_characters'])\n",
    "sns.histplot(df[df['target'] == 1]['num_characters'],color='red')"
   ]
  },
  {
   "cell_type": "code",
   "execution_count": 29,
   "id": "193c609b",
   "metadata": {},
   "outputs": [
    {
     "data": {
      "text/plain": [
       "<AxesSubplot:xlabel='num_words', ylabel='Count'>"
      ]
     },
     "execution_count": 29,
     "metadata": {},
     "output_type": "execute_result"
    },
    {
     "data": {
      "image/png": "[encoded data removed]",
      "text/plain": [
       "<Figure size 864x432 with 1 Axes>"
      ]
     },
     "metadata": {
      "needs_background": "light"
     },
     "output_type": "display_data"
    }
   ],
   "source": [
    "plt.figure(figsize=(12,6))\n",
    "sns.histplot(df[df['target'] == 0]['num_words'])\n",
    "sns.histplot(df[df['target'] == 1]['num_words'],color='red')"
   ]
  },
  {
   "cell_type": "raw",
   "id": "a5e8e48a",
   "metadata": {},
   "source": [
    "From the above graphs we can conclude that most of the spam messages ar emade up of many words and more number of characters when compared to ham messages"
   ]
  },
  {
   "cell_type": "code",
   "execution_count": 30,
   "id": "ed74e28d",
   "metadata": {},
   "outputs": [
    {
     "data": {
      "text/plain": [
       "<seaborn.axisgrid.PairGrid at 0x2bab38a8a00>"
      ]
     },
     "execution_count": 30,
     "metadata": {},
     "output_type": "execute_result"
    },
    {
     "data": {
      "image/png": "[encoded data removed]",
      "text/plain": [
       "<Figure size 582.375x540 with 12 Axes>"
      ]
     },
     "metadata": {
      "needs_background": "light"
     },
     "output_type": "display_data"
    }
   ],
   "source": [
    "## To find the correlation among the different columns in the dataset\n",
    "\n",
    "sns.pairplot(df,hue='target')"
   ]
  },
  {
   "cell_type": "code",
   "execution_count": 31,
   "id": "8061e523",
   "metadata": {},
   "outputs": [
    {
     "data": {
      "text/html": [
       "<div>\n",
       "<style scoped>\n",
       "    .dataframe tbody tr th:only-of-type {\n",
       "        vertical-align: middle;\n",
       "    }\n",
       "\n",
       "    .dataframe tbody tr th {\n",
       "        vertical-align: top;\n",
       "    }\n",
       "\n",
       "    .dataframe thead th {\n",
       "        text-align: right;\n",
       "    }\n",
       "</style>\n",
       "<table border=\"1\" class=\"dataframe\">\n",
       "  <thead>\n",
       "    <tr style=\"text-align: right;\">\n",
       "      <th></th>\n",
       "      <th>target</th>\n",
       "      <th>num_characters</th>\n",
       "      <th>num_words</th>\n",
       "      <th>num_sentences</th>\n",
       "    </tr>\n",
       "  </thead>\n",
       "  <tbody>\n",
       "    <tr>\n",
       "      <th>target</th>\n",
       "      <td>1.000000</td>\n",
       "      <td>0.382785</td>\n",
       "      <td>0.263143</td>\n",
       "      <td>0.269132</td>\n",
       "    </tr>\n",
       "    <tr>\n",
       "      <th>num_characters</th>\n",
       "      <td>0.382785</td>\n",
       "      <td>1.000000</td>\n",
       "      <td>0.966087</td>\n",
       "      <td>0.626197</td>\n",
       "    </tr>\n",
       "    <tr>\n",
       "      <th>num_words</th>\n",
       "      <td>0.263143</td>\n",
       "      <td>0.966087</td>\n",
       "      <td>1.000000</td>\n",
       "      <td>0.680924</td>\n",
       "    </tr>\n",
       "    <tr>\n",
       "      <th>num_sentences</th>\n",
       "      <td>0.269132</td>\n",
       "      <td>0.626197</td>\n",
       "      <td>0.680924</td>\n",
       "      <td>1.000000</td>\n",
       "    </tr>\n",
       "  </tbody>\n",
       "</table>\n",
       "</div>"
      ],
      "text/plain": [
       "                  target  num_characters  num_words  num_sentences\n",
       "target          1.000000        0.382785   0.263143       0.269132\n",
       "num_characters  0.382785        1.000000   0.966087       0.626197\n",
       "num_words       0.263143        0.966087   1.000000       0.680924\n",
       "num_sentences   0.269132        0.626197   0.680924       1.000000"
      ]
     },
     "execution_count": 31,
     "metadata": {},
     "output_type": "execute_result"
    }
   ],
   "source": [
    "df.corr()"
   ]
  },
  {
   "cell_type": "code",
   "execution_count": 32,
   "id": "205b59f3",
   "metadata": {},
   "outputs": [
    {
     "data": {
      "text/plain": [
       "<AxesSubplot:>"
      ]
     },
     "execution_count": 32,
     "metadata": {},
     "output_type": "execute_result"
    },
    {
     "data": {
      "image/png": "[encoded data removed]",
      "text/plain": [
       "<Figure size 432x288 with 2 Axes>"
      ]
     },
     "metadata": {
      "needs_background": "light"
     },
     "output_type": "display_data"
    }
   ],
   "source": [
    "sns.heatmap(df.corr(), annot=True)"
   ]
  },
  {
   "cell_type": "raw",
   "id": "e19f47a9",
   "metadata": {},
   "source": [
    "From the above graph we can observe that target has higher correlation with num_characters(0.38) rather than with other 2 columns. Hence we only consider num_characters column."
   ]
  },
  {
   "cell_type": "markdown",
   "id": "c8531d47",
   "metadata": {},
   "source": [
    "# Data preprocessing"
   ]
  },
  {
   "cell_type": "raw",
   "id": "9ecae1d9",
   "metadata": {},
   "source": [
    "Lower case\n",
    "Tokenization\n",
    "Removing special characters\n",
    "Removing stop words and punctuation\n",
    "Stemming"
   ]
  },
  {
   "cell_type": "code",
   "execution_count": 33,
   "id": "0cea640a",
   "metadata": {},
   "outputs": [],
   "source": [
    "## Converting to lower case\n",
    "\n",
    "def transform_text(text):\n",
    "    text = text.lower()\n",
    "    return text"
   ]
  },
  {
   "cell_type": "code",
   "execution_count": 34,
   "id": "2d201713",
   "metadata": {},
   "outputs": [
    {
     "data": {
      "text/plain": [
       "'i am going home'"
      ]
     },
     "execution_count": 34,
     "metadata": {},
     "output_type": "execute_result"
    }
   ],
   "source": [
    "transform_text(\"I am Going Home\")"
   ]
  },
  {
   "cell_type": "code",
   "execution_count": 35,
   "id": "e25f7d0b",
   "metadata": {},
   "outputs": [],
   "source": [
    "## Converting to words\n",
    "\n",
    "def transform_text(text):\n",
    "    text = text.lower()\n",
    "    text = nltk.word_tokenize(text)\n",
    "    return text"
   ]
  },
  {
   "cell_type": "code",
   "execution_count": 36,
   "id": "cca92ee4",
   "metadata": {},
   "outputs": [
    {
     "data": {
      "text/plain": [
       "['i', 'am', 'going', 'home']"
      ]
     },
     "execution_count": 36,
     "metadata": {},
     "output_type": "execute_result"
    }
   ],
   "source": [
    "transform_text(\"I am Going Home\")"
   ]
  },
  {
   "cell_type": "code",
   "execution_count": 37,
   "id": "74c9e439",
   "metadata": {},
   "outputs": [],
   "source": [
    "## Deleting all the alpha-numeric words\n",
    "\n",
    "def transform_text(text):\n",
    "    text = text.lower()\n",
    "    text = nltk.word_tokenize(text)\n",
    "    \n",
    "    y = []\n",
    "    for i in text:\n",
    "        if i.isalnum():  ##alpha-numeric\n",
    "            y.append(i)\n",
    "    return y"
   ]
  },
  {
   "cell_type": "code",
   "execution_count": 38,
   "id": "092a9567",
   "metadata": {},
   "outputs": [
    {
     "data": {
      "text/plain": [
       "['i', 'am', 'going', 'home']"
      ]
     },
     "execution_count": 38,
     "metadata": {},
     "output_type": "execute_result"
    }
   ],
   "source": [
    "transform_text(\"I am Going Home!%\")"
   ]
  },
  {
   "cell_type": "code",
   "execution_count": 39,
   "id": "81c377d1",
   "metadata": {},
   "outputs": [
    {
     "data": {
      "text/plain": [
       "['i', 'am', 'going', 'home', 'at']"
      ]
     },
     "execution_count": 39,
     "metadata": {},
     "output_type": "execute_result"
    }
   ],
   "source": [
    "transform_text(\"I am Going Home at 2:00!!\")"
   ]
  },
  {
   "cell_type": "code",
   "execution_count": 40,
   "id": "6f2225a9",
   "metadata": {},
   "outputs": [
    {
     "data": {
      "text/plain": [
       "['i',\n",
       " 'me',\n",
       " 'my',\n",
       " 'myself',\n",
       " 'we',\n",
       " 'our',\n",
       " 'ours',\n",
       " 'ourselves',\n",
       " 'you',\n",
       " \"you're\",\n",
       " \"you've\",\n",
       " \"you'll\",\n",
       " \"you'd\",\n",
       " 'your',\n",
       " 'yours',\n",
       " 'yourself',\n",
       " 'yourselves',\n",
       " 'he',\n",
       " 'him',\n",
       " 'his',\n",
       " 'himself',\n",
       " 'she',\n",
       " \"she's\",\n",
       " 'her',\n",
       " 'hers',\n",
       " 'herself',\n",
       " 'it',\n",
       " \"it's\",\n",
       " 'its',\n",
       " 'itself',\n",
       " 'they',\n",
       " 'them',\n",
       " 'their',\n",
       " 'theirs',\n",
       " 'themselves',\n",
       " 'what',\n",
       " 'which',\n",
       " 'who',\n",
       " 'whom',\n",
       " 'this',\n",
       " 'that',\n",
       " \"that'll\",\n",
       " 'these',\n",
       " 'those',\n",
       " 'am',\n",
       " 'is',\n",
       " 'are',\n",
       " 'was',\n",
       " 'were',\n",
       " 'be',\n",
       " 'been',\n",
       " 'being',\n",
       " 'have',\n",
       " 'has',\n",
       " 'had',\n",
       " 'having',\n",
       " 'do',\n",
       " 'does',\n",
       " 'did',\n",
       " 'doing',\n",
       " 'a',\n",
       " 'an',\n",
       " 'the',\n",
       " 'and',\n",
       " 'but',\n",
       " 'if',\n",
       " 'or',\n",
       " 'because',\n",
       " 'as',\n",
       " 'until',\n",
       " 'while',\n",
       " 'of',\n",
       " 'at',\n",
       " 'by',\n",
       " 'for',\n",
       " 'with',\n",
       " 'about',\n",
       " 'against',\n",
       " 'between',\n",
       " 'into',\n",
       " 'through',\n",
       " 'during',\n",
       " 'before',\n",
       " 'after',\n",
       " 'above',\n",
       " 'below',\n",
       " 'to',\n",
       " 'from',\n",
       " 'up',\n",
       " 'down',\n",
       " 'in',\n",
       " 'out',\n",
       " 'on',\n",
       " 'off',\n",
       " 'over',\n",
       " 'under',\n",
       " 'again',\n",
       " 'further',\n",
       " 'then',\n",
       " 'once',\n",
       " 'here',\n",
       " 'there',\n",
       " 'when',\n",
       " 'where',\n",
       " 'why',\n",
       " 'how',\n",
       " 'all',\n",
       " 'any',\n",
       " 'both',\n",
       " 'each',\n",
       " 'few',\n",
       " 'more',\n",
       " 'most',\n",
       " 'other',\n",
       " 'some',\n",
       " 'such',\n",
       " 'no',\n",
       " 'nor',\n",
       " 'not',\n",
       " 'only',\n",
       " 'own',\n",
       " 'same',\n",
       " 'so',\n",
       " 'than',\n",
       " 'too',\n",
       " 'very',\n",
       " 's',\n",
       " 't',\n",
       " 'can',\n",
       " 'will',\n",
       " 'just',\n",
       " 'don',\n",
       " \"don't\",\n",
       " 'should',\n",
       " \"should've\",\n",
       " 'now',\n",
       " 'd',\n",
       " 'll',\n",
       " 'm',\n",
       " 'o',\n",
       " 're',\n",
       " 've',\n",
       " 'y',\n",
       " 'ain',\n",
       " 'aren',\n",
       " \"aren't\",\n",
       " 'couldn',\n",
       " \"couldn't\",\n",
       " 'didn',\n",
       " \"didn't\",\n",
       " 'doesn',\n",
       " \"doesn't\",\n",
       " 'hadn',\n",
       " \"hadn't\",\n",
       " 'hasn',\n",
       " \"hasn't\",\n",
       " 'haven',\n",
       " \"haven't\",\n",
       " 'isn',\n",
       " \"isn't\",\n",
       " 'ma',\n",
       " 'mightn',\n",
       " \"mightn't\",\n",
       " 'mustn',\n",
       " \"mustn't\",\n",
       " 'needn',\n",
       " \"needn't\",\n",
       " 'shan',\n",
       " \"shan't\",\n",
       " 'shouldn',\n",
       " \"shouldn't\",\n",
       " 'wasn',\n",
       " \"wasn't\",\n",
       " 'weren',\n",
       " \"weren't\",\n",
       " 'won',\n",
       " \"won't\",\n",
       " 'wouldn',\n",
       " \"wouldn't\"]"
      ]
     },
     "execution_count": 40,
     "metadata": {},
     "output_type": "execute_result"
    }
   ],
   "source": [
    "from nltk.corpus import stopwords\n",
    "stopwords.words(\"english\")"
   ]
  },
  {
   "cell_type": "code",
   "execution_count": 41,
   "id": "360cf4c3",
   "metadata": {},
   "outputs": [
    {
     "data": {
      "text/plain": [
       "'!\"#$%&\\'()*+,-./:;<=>?@[\\\\]^_`{|}~'"
      ]
     },
     "execution_count": 41,
     "metadata": {},
     "output_type": "execute_result"
    }
   ],
   "source": [
    "import string\n",
    "string.punctuation"
   ]
  },
  {
   "cell_type": "code",
   "execution_count": 42,
   "id": "7ecb0b12",
   "metadata": {},
   "outputs": [],
   "source": [
    "## removing stopwords and punctuations\n",
    "\n",
    "def transform_text(text):\n",
    "    text = text.lower()\n",
    "    text = nltk.word_tokenize(text)\n",
    "    \n",
    "    y = []\n",
    "    for i in text:\n",
    "        if i.isalnum():\n",
    "            y.append(i)\n",
    "    \n",
    "    text = y[:]\n",
    "    y.clear()\n",
    "    \n",
    "    for i in text:\n",
    "        if i not in stopwords.words('english') and i not in string.punctuation:\n",
    "            y.append(i)\n",
    "            \n",
    "    text = y[:]\n",
    "    y.clear()\n",
    "    \n",
    "    for i in text:\n",
    "        if i not in stopwords.words('english') and i not in string.punctuation:\n",
    "            y.append(i)\n",
    "            \n",
    "    return y"
   ]
  },
  {
   "cell_type": "code",
   "execution_count": 43,
   "id": "c1b53c00",
   "metadata": {},
   "outputs": [
    {
     "data": {
      "text/plain": [
       "['going', 'home']"
      ]
     },
     "execution_count": 43,
     "metadata": {},
     "output_type": "execute_result"
    }
   ],
   "source": [
    "transform_text(\"I am Going Home at 2:00..\")"
   ]
  },
  {
   "cell_type": "code",
   "execution_count": 44,
   "id": "62ba5653",
   "metadata": {},
   "outputs": [
    {
     "data": {
      "text/plain": [
       "['lunch']"
      ]
     },
     "execution_count": 44,
     "metadata": {},
     "output_type": "execute_result"
    }
   ],
   "source": [
    "transform_text(\"Did you had lunch??\")"
   ]
  },
  {
   "cell_type": "code",
   "execution_count": 45,
   "id": "80ebb2d8",
   "metadata": {},
   "outputs": [
    {
     "data": {
      "text/plain": [
       "'love'"
      ]
     },
     "execution_count": 45,
     "metadata": {},
     "output_type": "execute_result"
    }
   ],
   "source": [
    "## stemming\n",
    "\n",
    "ps = PorterStemmer()\n",
    "ps.stem('loving')"
   ]
  },
  {
   "cell_type": "code",
   "execution_count": 46,
   "id": "1cd7782d",
   "metadata": {},
   "outputs": [
    {
     "data": {
      "text/plain": [
       "'danc'"
      ]
     },
     "execution_count": 46,
     "metadata": {},
     "output_type": "execute_result"
    }
   ],
   "source": [
    "ps = PorterStemmer()\n",
    "ps.stem('dancing')"
   ]
  },
  {
   "cell_type": "code",
   "execution_count": 47,
   "id": "61dc44f2",
   "metadata": {},
   "outputs": [],
   "source": [
    "## Complete text_transforming\n",
    "\n",
    "def transform_text(text):\n",
    "    text = text.lower()\n",
    "    text = nltk.word_tokenize(text)\n",
    "    \n",
    "    y = []\n",
    "    for i in text:\n",
    "        if i.isalnum():\n",
    "            y.append(i)\n",
    "    \n",
    "    text = y[:]\n",
    "    y.clear()\n",
    "    \n",
    "    for i in text:\n",
    "        if i not in stopwords.words('english') and i not in string.punctuation:\n",
    "            y.append(i)\n",
    "            \n",
    "    text = y[:]\n",
    "    y.clear()\n",
    "    \n",
    "    for i in text:\n",
    "        y.append(ps.stem(i))\n",
    "    \n",
    "            \n",
    "    return \" \".join(y)"
   ]
  },
  {
   "cell_type": "code",
   "execution_count": 48,
   "id": "41bc3d7c",
   "metadata": {},
   "outputs": [
    {
     "data": {
      "text/plain": [
       "'hi anjali'"
      ]
     },
     "execution_count": 48,
     "metadata": {},
     "output_type": "execute_result"
    }
   ],
   "source": [
    "transform_text(\"Hi!!!! How are you doing Anjali\")"
   ]
  },
  {
   "cell_type": "code",
   "execution_count": 49,
   "id": "3b322e24",
   "metadata": {},
   "outputs": [
    {
     "data": {
      "text/plain": [
       "'Had your mobile 11 months or more? U R entitled to Update to the latest colour mobiles with camera for Free! Call The Mobile Update Co FREE on 08002986030'"
      ]
     },
     "execution_count": 49,
     "metadata": {},
     "output_type": "execute_result"
    }
   ],
   "source": [
    "df[\"text\"][9]"
   ]
  },
  {
   "cell_type": "code",
   "execution_count": 50,
   "id": "00d949f0",
   "metadata": {},
   "outputs": [
    {
     "data": {
      "text/plain": [
       "'mobil 11 month u r entitl updat latest colour mobil camera free call mobil updat co free 08002986030'"
      ]
     },
     "execution_count": 50,
     "metadata": {},
     "output_type": "execute_result"
    }
   ],
   "source": [
    "transform_text(df[\"text\"][9])"
   ]
  },
  {
   "cell_type": "code",
   "execution_count": 51,
   "id": "8842ce30",
   "metadata": {},
   "outputs": [
    {
     "data": {
      "text/html": [
       "<div>\n",
       "<style scoped>\n",
       "    .dataframe tbody tr th:only-of-type {\n",
       "        vertical-align: middle;\n",
       "    }\n",
       "\n",
       "    .dataframe tbody tr th {\n",
       "        vertical-align: top;\n",
       "    }\n",
       "\n",
       "    .dataframe thead th {\n",
       "        text-align: right;\n",
       "    }\n",
       "</style>\n",
       "<table border=\"1\" class=\"dataframe\">\n",
       "  <thead>\n",
       "    <tr style=\"text-align: right;\">\n",
       "      <th></th>\n",
       "      <th>target</th>\n",
       "      <th>text</th>\n",
       "      <th>num_characters</th>\n",
       "      <th>num_words</th>\n",
       "      <th>num_sentences</th>\n",
       "      <th>transformed_text</th>\n",
       "    </tr>\n",
       "  </thead>\n",
       "  <tbody>\n",
       "    <tr>\n",
       "      <th>0</th>\n",
       "      <td>0</td>\n",
       "      <td>Go until jurong point, crazy.. Available only ...</td>\n",
       "      <td>111</td>\n",
       "      <td>24</td>\n",
       "      <td>2</td>\n",
       "      <td>go jurong point crazi avail bugi n great world...</td>\n",
       "    </tr>\n",
       "    <tr>\n",
       "      <th>1</th>\n",
       "      <td>0</td>\n",
       "      <td>Ok lar... Joking wif u oni...</td>\n",
       "      <td>29</td>\n",
       "      <td>8</td>\n",
       "      <td>2</td>\n",
       "      <td>ok lar joke wif u oni</td>\n",
       "    </tr>\n",
       "    <tr>\n",
       "      <th>2</th>\n",
       "      <td>1</td>\n",
       "      <td>Free entry in 2 a wkly comp to win FA Cup fina...</td>\n",
       "      <td>155</td>\n",
       "      <td>37</td>\n",
       "      <td>2</td>\n",
       "      <td>free entri 2 wkli comp win fa cup final tkt 21...</td>\n",
       "    </tr>\n",
       "    <tr>\n",
       "      <th>3</th>\n",
       "      <td>0</td>\n",
       "      <td>U dun say so early hor... U c already then say...</td>\n",
       "      <td>49</td>\n",
       "      <td>13</td>\n",
       "      <td>1</td>\n",
       "      <td>u dun say earli hor u c alreadi say</td>\n",
       "    </tr>\n",
       "    <tr>\n",
       "      <th>4</th>\n",
       "      <td>0</td>\n",
       "      <td>Nah I don't think he goes to usf, he lives aro...</td>\n",
       "      <td>61</td>\n",
       "      <td>15</td>\n",
       "      <td>1</td>\n",
       "      <td>nah think goe usf live around though</td>\n",
       "    </tr>\n",
       "  </tbody>\n",
       "</table>\n",
       "</div>"
      ],
      "text/plain": [
       "   target                                               text  num_characters  \\\n",
       "0       0  Go until jurong point, crazy.. Available only ...             111   \n",
       "1       0                      Ok lar... Joking wif u oni...              29   \n",
       "2       1  Free entry in 2 a wkly comp to win FA Cup fina...             155   \n",
       "3       0  U dun say so early hor... U c already then say...              49   \n",
       "4       0  Nah I don't think he goes to usf, he lives aro...              61   \n",
       "\n",
       "   num_words  num_sentences                                   transformed_text  \n",
       "0         24              2  go jurong point crazi avail bugi n great world...  \n",
       "1          8              2                              ok lar joke wif u oni  \n",
       "2         37              2  free entri 2 wkli comp win fa cup final tkt 21...  \n",
       "3         13              1                u dun say earli hor u c alreadi say  \n",
       "4         15              1               nah think goe usf live around though  "
      ]
     },
     "execution_count": 51,
     "metadata": {},
     "output_type": "execute_result"
    }
   ],
   "source": [
    "df['transformed_text'] = df['text'].apply(transform_text)\n",
    "df.head()"
   ]
  },
  {
   "cell_type": "raw",
   "id": "4a8a1836",
   "metadata": {},
   "source": [
    "WordCloud:  Highligts the mostly used words in that particular target"
   ]
  },
  {
   "cell_type": "code",
   "execution_count": 52,
   "id": "da13831e",
   "metadata": {},
   "outputs": [],
   "source": [
    "wc = WordCloud(width=500,height=500,min_font_size=10,background_color='white')"
   ]
  },
  {
   "cell_type": "code",
   "execution_count": 53,
   "id": "eb99a0c1",
   "metadata": {},
   "outputs": [
    {
     "data": {
      "text/plain": [
       "<matplotlib.image.AxesImage at 0x2bab3965520>"
      ]
     },
     "execution_count": 53,
     "metadata": {},
     "output_type": "execute_result"
    },
    {
     "data": {
      "image/png": "[encoded data removed]",
      "text/plain": [
       "<Figure size 1080x432 with 1 Axes>"
      ]
     },
     "metadata": {
      "needs_background": "light"
     },
     "output_type": "display_data"
    }
   ],
   "source": [
    "## for spam \n",
    "\n",
    "spam_wc = wc.generate(df[df['target'] == 1]['transformed_text'].str.cat(sep=\" \"))\n",
    "plt.figure(figsize=(15,6))\n",
    "plt.imshow(spam_wc)"
   ]
  },
  {
   "cell_type": "code",
   "execution_count": 54,
   "id": "9bdacee3",
   "metadata": {},
   "outputs": [
    {
     "data": {
      "text/plain": [
       "<matplotlib.image.AxesImage at 0x2bab4078b20>"
      ]
     },
     "execution_count": 54,
     "metadata": {},
     "output_type": "execute_result"
    },
    {
     "data": {
      "image/png": "[encoded data removed]",
      "text/plain": [
       "<Figure size 1080x432 with 1 Axes>"
      ]
     },
     "metadata": {
      "needs_background": "light"
     },
     "output_type": "display_data"
    }
   ],
   "source": [
    "##For ham\n",
    "\n",
    "ham_wc = wc.generate(df[df['target'] == 0]['transformed_text'].str.cat(sep=\" \"))\n",
    "plt.figure(figsize=(15,6))\n",
    "plt.imshow(ham_wc)"
   ]
  },
  {
   "cell_type": "code",
   "execution_count": 55,
   "id": "3e7f0b23",
   "metadata": {},
   "outputs": [
    {
     "data": {
      "text/plain": [
       "['free entri 2 wkli comp win fa cup final tkt 21st may text fa 87121 receiv entri question std txt rate c appli 08452810075over18',\n",
       " 'freemsg hey darl 3 week word back like fun still tb ok xxx std chg send rcv',\n",
       " 'winner valu network custom select receivea prize reward claim call claim code kl341 valid 12 hour',\n",
       " 'mobil 11 month u r entitl updat latest colour mobil camera free call mobil updat co free 08002986030',\n",
       " 'six chanc win cash 100 pound txt csh11 send cost 6day tsandc appli repli hl 4 info',\n",
       " 'urgent 1 week free membership prize jackpot txt word claim 81010 c lccltd pobox 4403ldnw1a7rw18',\n",
       " 'xxxmobilemovieclub use credit click wap link next txt messag click http',\n",
       " 'england v macedonia dont miss news txt ur nation team 87077 eg england 87077 tri wale scotland poboxox36504w45wq',\n",
       " 'thank subscript rington uk mobil charg pleas confirm repli ye repli charg',\n",
       " '07732584351 rodger burn msg tri call repli sm free nokia mobil free camcord pleas call 08000930705 deliveri tomorrow',\n",
       " 'sm ac sptv new jersey devil detroit red wing play ice hockey correct incorrect end repli end sptv',\n",
       " 'congrat 1 year special cinema pass 2 call 09061209465 c suprman v matrix3 starwars3 etc 4 free 150pm dont miss',\n",
       " 'valu custom pleas advis follow recent review mob award bonu prize call 09066364589',\n",
       " 'urgent ur award complimentari trip eurodisinc trav aco entry41 claim txt di 87121 morefrmmob shracomorsglsuplt 10 ls1 3aj',\n",
       " 'hear new come ken stuff',\n",
       " 'pleas call custom servic repres 0800 169 6031 guarante cash prize',\n",
       " 'free rington wait collect simpli text password 85069 verifi get usher britney fml',\n",
       " 'gent tri contact last weekend draw show prize guarante call claim code k52 valid 12hr 150ppm',\n",
       " 'winner u special select 2 receiv 4 holiday flight inc speak live oper 2 claim',\n",
       " 'privat 2004 account statement 07742676969 show 786 unredeem bonu point claim call 08719180248 identifi code 45239 expir',\n",
       " 'urgent mobil award bonu caller prize final tri contact u call landlin 09064019788 box42wr29c 150ppm',\n",
       " 'today voda number end 7548 select receiv 350 award match pleas call 08712300220 quot claim code 4041 standard rate app',\n",
       " 'sunshin quiz wkli q win top soni dvd player u know countri algarv txt ansr 82277 sp tyron',\n",
       " 'want 2 get laid tonight want real dog locat sent direct 2 ur mob join uk largest dog network bt txting gravel 69888 nt ec2a 150p',\n",
       " 'rcv msg chat svc free hardcor servic text go 69988 u get noth u must age verifi yr network tri',\n",
       " 'freemsg repli text randi sexi femal live local luv hear netcollex ltd 08700621170150p per msg repli stop end',\n",
       " 'custom servic annonc new year deliveri wait pleas call 07046744435 arrang deliveri',\n",
       " 'winner u special select 2 receiv cash 4 holiday flight inc speak live oper 2 claim 0871277810810',\n",
       " 'stop bootydeli invit friend repli see stop send stop frnd 62468',\n",
       " 'bangbab ur order way u receiv servic msg 2 download ur content u goto wap bangb tv ur mobil menu',\n",
       " 'urgent tri contact last weekend draw show prize guarante call claim code s89 valid 12hr',\n",
       " 'pleas call custom servic repres freephon 0808 145 4742 guarante cash prize',\n",
       " 'uniqu enough find 30th august',\n",
       " '500 new mobil 2004 must go txt nokia 89545 collect today 2optout',\n",
       " 'u meet ur dream partner soon ur career 2 flyng start 2 find free txt horo follow ur star sign horo ari',\n",
       " 'text meet someon sexi today u find date even flirt join 4 10p repli name age eg sam 25 18 recd thirtyeight penc',\n",
       " 'u 447801259231 secret admir look 2 make contact r reveal think ur 09058094597',\n",
       " 'congratul ur award 500 cd voucher 125gift guarante free entri 2 100 wkli draw txt music 87066 tnc',\n",
       " 'tri contact repli offer video handset 750 anytim network min unlimit text camcord repli call 08000930705',\n",
       " 'hey realli horni want chat see nake text hot 69698 text charg 150pm unsubscrib text stop 69698',\n",
       " 'ur rington servic chang 25 free credit go choos content stop txt club stop 87070 club4 po box1146 mk45 2wt',\n",
       " 'rington club get uk singl chart mobil week choos top qualiti rington messag free charg',\n",
       " 'hmv bonu special 500 pound genuin hmv voucher answer 4 easi question play send hmv 86688 info',\n",
       " 'custom may claim free camera phone upgrad pay go sim card loyalti call 0845 021 end c appli',\n",
       " 'sm ac blind date 4u rodds1 aberdeen unit kingdom check http sm blind date send hide',\n",
       " 'themob check newest select content game tone gossip babe sport keep mobil fit funki text wap 82468',\n",
       " 'think ur smart win week weekli quiz text play 85222 cs winnersclub po box 84 m26 3uz',\n",
       " 'decemb mobil entitl updat latest colour camera mobil free call mobil updat co free 08002986906',\n",
       " 'call germani 1 penc per minut call fix line via access number 0844 861 85 prepay direct access',\n",
       " 'valentin day special win quiz take partner trip lifetim send go 83600 rcvd',\n",
       " 'fanci shag txt xxuk suzi txt cost per msg tnc websit x',\n",
       " 'ur current 500 pound maxim ur send cash 86688 cc 08708800282',\n",
       " 'xma offer latest motorola sonyericsson nokia free bluetooth doubl min 1000 txt orang call mobileupd8 08000839402',\n",
       " 'discount code rp176781 stop messag repli stop custom servic 08717205546',\n",
       " 'thank rington order refer t91 charg gbp 4 per week unsubscrib anytim call custom servic 09057039994',\n",
       " 'doubl min txt 4 6month free bluetooth orang avail soni nokia motorola phone call mobileupd8 08000839402',\n",
       " '4mth half price orang line rental latest camera phone 4 free phone 11mth call mobilesdirect free 08000938767 updat or2stoptxt',\n",
       " 'free rington text first 87131 poli text get 87131 true tone help 0845 2814032 16 1st free tone txt stop',\n",
       " '100 date servic cal l 09064012103 box334sk38ch',\n",
       " 'free entri weekli competit text word win 80086 18 c',\n",
       " 'send logo 2 ur lover 2 name join heart txt love name1 name2 mobno eg love adam eve 07123456789 87077 yahoo pobox36504w45wq txtno 4 ad 150p',\n",
       " 'someon contact date servic enter phone fanci find call landlin 09111032124 pobox12n146tf150p',\n",
       " 'urgent mobil number award prize guarante call 09058094455 land line claim valid 12hr',\n",
       " 'congrat nokia 3650 video camera phone call 09066382422 call cost 150ppm ave call 3min vari mobil close 300603 post bcm4284 ldn wc1n3xx',\n",
       " 'loan purpos homeown tenant welcom previous refus still help call free 0800 1956669 text back',\n",
       " 'upgrdcentr orang custom may claim free camera phone upgrad loyalti call 0207 153 offer end 26th juli c appli avail',\n",
       " 'okmail dear dave final notic collect 4 tenerif holiday 5000 cash award call 09061743806 landlin tc sae box326 cw25wx 150ppm',\n",
       " 'want 2 get laid tonight want real dog locat sent direct 2 ur mob join uk largest dog network txting moan 69888nyt ec2a 150p',\n",
       " 'free messag activ 500 free text messag repli messag word free term condit visit',\n",
       " 'congrat 1 year special cinema pass 2 call 09061209465 c suprman v matrix3 starwars3 etc 4 free 150pm dont miss',\n",
       " 'congratul week competit draw u prize claim call 09050002311 b4280703 sm 18 150ppm',\n",
       " 'guarante latest nokia phone 40gb ipod mp3 player prize txt word collect 83355 ibhltd ldnw15h',\n",
       " 'boltblu tone 150p repli poli mono eg poly3 cha cha slide yeah slow jamz toxic come stop 4 tone txt',\n",
       " 'credit top http renew pin tgxxrz',\n",
       " 'urgent mobil award bonu caller prize 2nd attempt contact call box95qu',\n",
       " 'today offer claim ur worth discount voucher text ye 85023 savamob member offer mobil cs 08717898035 sub 16 unsub repli x',\n",
       " 'reciev tone within next 24hr term condit pleas see channel u teletext pg 750',\n",
       " 'privat 2003 account statement 07815296484 show 800 point call 08718738001 identifi code 41782 expir',\n",
       " 'monthlysubscript csc web age16 2stop txt stop',\n",
       " 'gent tri contact last weekend draw show prize guarante call claim code k52 valid 12hr 150ppm',\n",
       " 'cash prize claim call09050000327',\n",
       " 'mobil number claim call us back ring claim hot line 09050005321',\n",
       " 'tri contact repli offer 750 min 150 textand new video phone call 08002988890 repli free deliveri tomorrow',\n",
       " 'ur chanc win wkli shop spree txt shop c custcar 08715705022',\n",
       " 'special select receiv 2000 pound award call 08712402050 line close cost 10ppm cs appli ag promo',\n",
       " 'privat 2003 account statement 07753741225 show 800 point call 08715203677 identifi code 42478 expir',\n",
       " 'import custom servic announc call freephon 0800 542 0825',\n",
       " 'xclusiv clubsaisai 2morow soire special zouk nichol rose 2 ladi info',\n",
       " '22 day kick euro2004 u kept date latest news result daili remov send get txt stop 83222',\n",
       " 'new textbuddi chat 2 horni guy ur area 4 25p free 2 receiv search postcod txt one name 89693',\n",
       " 'today vodafon number end 4882 select receiv award number match call 09064019014 receiv award',\n",
       " 'dear voucher holder 2 claim week offer pc go http ts cs stop text txt stop 80062',\n",
       " 'privat 2003 account statement show 800 point call 08715203694 identifi code 40533 expir',\n",
       " 'cash prize claim call09050000327 c rstm sw7 3ss 150ppm',\n",
       " '88800 89034 premium phone servic call 08718711108',\n",
       " 'sm ac sun0819 post hello seem cool',\n",
       " 'get ur 1st rington free repli msg tone gr8 top 20 tone phone everi week per wk 2 opt send stop 08452810071 16',\n",
       " 'hi sue 20 year old work lapdanc love sex text live bedroom text sue textoper g2 1da 150ppmsg',\n",
       " 'forward 448712404000 pleas call 08712404000 immedi urgent messag wait',\n",
       " 'review keep fantast nokia game deck club nokia go 2 unsubscrib alert repli word',\n",
       " '4mth half price orang line rental latest camera phone 4 free phone call mobilesdirect free 08000938767 updat or2stoptxt cs',\n",
       " '08714712388 cost 10p',\n",
       " 'urgent 2nd attempt contact u u call 09071512433 b4 050703 csbcm4235wc1n3xx callcost 150ppm mobilesvari 50',\n",
       " 'guarante cash prize claim yr prize call custom servic repres 08714712394',\n",
       " 'email alertfrom jeri stewarts 2kbsubject prescripiton drvgsto listen email call 123',\n",
       " 'hi custom loyalti offer new nokia6650 mobil txtauction txt word start 81151 get 4t ctxt tc',\n",
       " 'u subscrib best mobil content servic uk per 10 day send stop helplin 08706091795',\n",
       " 'realiz 40 year thousand old ladi run around tattoo',\n",
       " 'import custom servic announc premier',\n",
       " 'romant pari 2 night 2 flight book 4 next year call 08704439680t cs appli',\n",
       " 'urgent ur guarante award still unclaim call 09066368327 claimcod m39m51',\n",
       " 'ur award citi break could win summer shop spree everi wk txt store 88039 skilgm tscs087147403231winawk age16',\n",
       " 'import custom servic announc premier call freephon 0800 542 0578',\n",
       " 'ever thought live good life perfect partner txt back name age join mobil commun',\n",
       " '5 free top polyphon tone call 087018728737 nation rate get toppoli tune sent everi week text subpoli 81618 per pole unsub 08718727870',\n",
       " 'orang custom may claim free camera phone upgrad loyalti call 0207 153 offer end 14thmarch c appli availa',\n",
       " 'last chanc claim ur worth discount voucher today text shop 85023 savamob offer mobil cs savamob pobox84 m263uz sub 16',\n",
       " 'free 1st week no1 nokia tone 4 ur mobil everi week txt nokia 8077 get txting tell ur mate pobox 36504 w45wq',\n",
       " 'guarante award even cashto claim ur award call free 08000407165 2 stop getstop 88222 php rg21 4jx',\n",
       " 'congratul ur award either cd gift voucher free entri 2 weekli draw txt music 87066 tnc',\n",
       " 'u outbid simonwatson5120 shinco dvd plyr 2 bid visit sm 2 end bid notif repli end',\n",
       " 'smsservic yourinclus text credit pl goto 3qxj9 unsubscrib stop extra charg help 9ae',\n",
       " '25p 4 alfi moon children need song ur mob tell ur m8 txt tone chariti 8007 nokia poli chariti poli zed 08701417012 profit 2 chariti',\n",
       " 'u secret admir reveal think u r special call opt repli reveal stop per msg recd cust care 07821230901',\n",
       " 'dear voucher holder claim week offer pc pleas go http ts cs appli stop text txt stop 80062',\n",
       " 'want 750 anytim network min 150 text new video phone five pound per week call 08002888812 repli deliveri tomorrow',\n",
       " 'tri contact offer new video phone 750 anytim network min half price rental camcord call 08000930705 repli deliveri wed',\n",
       " 'last chanc 2 claim ur worth discount ye 85023 offer mobil cs 08717898035 sub 16 remov txt x stop',\n",
       " 'urgent call 09066350750 landlin complimentari 4 ibiza holiday cash await collect sae cs po box 434 sk3 8wp 150 ppm',\n",
       " 'talk sexi make new friend fall love world discreet text date servic text vip 83110 see could meet',\n",
       " 'congratul ur award either yr suppli cd virgin record mysteri gift guarante call 09061104283 ts cs approx 3min',\n",
       " 'privat 2003 account statement 07808 xxxxxx show 800 point call 08719899217 identifi code 41685 expir',\n",
       " 'hello need posh bird chap user trial prod champney put need address dob asap ta r',\n",
       " 'u want xma 100 free text messag new video phone half price line rental call free 0800 0721072 find',\n",
       " 'shop till u drop either 10k 5k cash travel voucher call ntt po box cr01327bt fixedlin cost 150ppm mobil vari',\n",
       " 'sunshin quiz wkli q win top soni dvd player u know countri liverpool play mid week txt ansr 82277 sp tyron',\n",
       " 'u secret admir look 2 make contact r reveal think ur 09058094565',\n",
       " 'u secret admir look 2 make contact r reveal think ur',\n",
       " 'remind download content alreadi paid goto http mymobi collect content',\n",
       " 'lastest stereophon marley dizze racal libertin stroke win nookii game flirt click themob wap bookmark text wap 82468',\n",
       " 'januari male sale hot gay chat cheaper call nation rate cheap peak stop text call 08712460324',\n",
       " 'money r lucki winner 2 claim prize text money 2 88600 give away text rate box403 w1t1ji',\n",
       " 'dear matthew pleas call 09063440451 landlin complimentari 4 lux tenerif holiday cash await collect ppm150 sae cs box334 sk38xh',\n",
       " 'urgent call 09061749602 landlin complimentari 4 tenerif holiday cash await collect sae cs box 528 hp20 1yf 150ppm',\n",
       " 'get touch folk wait compani txt back name age opt enjoy commun',\n",
       " 'ur current 500 pound maxim ur send go 86688 cc 08718720201 po box',\n",
       " 'filthi stori girl wait',\n",
       " 'urgent tri contact today draw show prize guarante call 09050001808 land line claim m95 valid12hr',\n",
       " 'congrat 2 mobil 3g videophon r call 09063458130 videochat wid mate play java game dload polyph music nolin rentl',\n",
       " 'panason bluetoothhdset free nokia free motorola free doublemin doubletxt orang contract call mobileupd8 08000839402 call 2optout',\n",
       " 'free 1st week no1 nokia tone 4 ur mob everi week txt nokia 8007 get txting tell ur mate pobox 36504 w45wq',\n",
       " 'guess somebodi know secretli fanci wan na find give us call 09065394514 landlin datebox1282essexcm61xn 18',\n",
       " 'know someon know fanci call 09058097218 find pobox 6 ls15hb 150p',\n",
       " '1000 flirt txt girl bloke ur name age eg girl zoe 18 8007 join get chat',\n",
       " '18 day euro2004 kickoff u kept inform latest news result daili unsubscrib send get euro stop 83222',\n",
       " 'eastend tv quiz flower dot compar violet tulip lili txt e f 84025 4 chanc 2 win cash',\n",
       " 'new local date area lot new peopl regist area repli date start 18 replys150',\n",
       " 'someon u know ask date servic 2 contact cant guess call 09058091854 reveal po box385 m6 6wu',\n",
       " 'urgent tri contact today draw show prize guarante call 09050003091 land line claim c52 valid12hr',\n",
       " 'dear u invit xchat final attempt contact u txt chat 86688',\n",
       " 'award sipix digit camera call 09061221061 landlin deliveri within 28day cs box177 m221bp 2yr warranti 150ppm 16 p',\n",
       " 'win urgent mobil number award prize guarante call 09061790121 land line claim 3030 valid 12hr 150ppm',\n",
       " 'dear subscrib ur draw 4 gift voucher b enter receipt correct an elvi presley birthday txt answer 80062',\n",
       " 'messag import inform o2 user today lucki day 2 find log onto http fantast surpris await',\n",
       " '449050000301 price claim call 09050000301',\n",
       " 'bore speed date tri speedchat txt speedchat 80155 like em txt swap get new chatter chat80155 pobox36504w45wq rcd 16',\n",
       " 'want 750 anytim network min 150 text new video phone five pound per week call 08000776320 repli deliveri tomorrow',\n",
       " 'take part mobil survey yesterday 500 text 2 use howev wish 2 get txt send txt 80160 c',\n",
       " 'ur hmv quiz current maxim ur send hmv1 86688',\n",
       " 'dont forget place mani free request wish inform call 08707808226',\n",
       " 'know u u know send chat 86688 let find rcvd ldn 18 year',\n",
       " 'thank winner notifi sm good luck futur market repli stop 84122 custom servic 08450542832',\n",
       " '1000 girl mani local 2 u r virgin 2 r readi 2 4fil ur everi sexual need u 4fil text cute 69911',\n",
       " 'got take 2 take part wrc ralli oz u lucozad energi text ralli le 61200 25p see pack itcould u',\n",
       " 'sex ur mobil free sexi pic jordan text babe everi wk get sexi celeb 4 pic 16 087016248',\n",
       " '1 new voicemail pleas call 08719181503',\n",
       " 'win year suppli cd 4 store ur choic worth enter weekli draw txt music 87066 ts cs',\n",
       " 'sim subscrib select receiv bonu get deliv door txt word ok 88600 claim exp 30apr',\n",
       " '1 new voicemail pleas call 08719181513',\n",
       " '1 nokia tone 4 ur mob everi week txt nok 87021 1st tone free get txtin tell ur friend 16 repli hl 4info',\n",
       " 'repli name address receiv post week complet free accommod variou global locat',\n",
       " 'free entri weekli comp send word enter 84128 18 c cust care 08712405020',\n",
       " 'pleas call 08712402779 immedi urgent messag wait',\n",
       " 'hungri gay guy feel hungri 4 call 08718730555 stop text call 08712460324',\n",
       " 'u get 2 phone wan na chat 2 set meet call 09096102316 u cum 2moro luv jane xx',\n",
       " 'network oper servic free c visit',\n",
       " 'enjoy jamster videosound gold club credit 2 new get fun help call 09701213186',\n",
       " 'get 3 lion england tone repli lionm 4 mono lionp 4 poli 4 go 2 origin n best tone 3gbp network oper rate appli',\n",
       " 'win newest potter order phoenix book 5 repli harri answer 5 question chanc first among reader',\n",
       " 'ur balanc ur next question sang girl 80 2 answer txt ur answer good luck',\n",
       " 'free2day sexi st georg day pic jordan txt pic 89080 dont miss everi wk sauci celeb 4 pic c 0870241182716',\n",
       " 'hot live fantasi call 08707509020 20p per min ntt ltd po box 1327 croydon cr9 5wb 0870 k',\n",
       " 'bear pic nick tom pete dick fact type tri gay chat photo upload call 08718730666 2 stop text call 08712460324',\n",
       " '500 new mobil 2004 must go txt nokia 89545 collect today 2optout txtauction',\n",
       " 'doubl min doubl txt price linerent latest orang bluetooth mobil call mobileupd8 latest offer 08000839402',\n",
       " 'urgent import inform o2 user today lucki day 2 find log onto http fantast surpris await',\n",
       " 'dear u invit xchat final attempt contact u txt chat 86688 ldn 18 yr',\n",
       " 'congratul ur award either cd gift voucher free entri 2 weekli draw txt music 87066 tnc 1 win150ppmx3age16',\n",
       " 'sale arsen dartboard good condit doubl trebl',\n",
       " 'free 1st week entri 2 textpod 4 chanc 2 win 40gb ipod cash everi wk txt pod 84128 ts cs custcar 08712405020',\n",
       " 'regist optin subscrib ur draw 4 gift voucher enter receipt correct an 80062 what no1 bbc chart',\n",
       " 'summer final fanci chat flirt sexi singl yr area get match repli summer free 2 join optout txt stop help08714742804',\n",
       " 'clair havin borin time alon u wan na cum 2nite chat 09099725823 hope 2 c u luv clair xx',\n",
       " 'bought one rington get text cost 3 pound offer tone etc',\n",
       " '09066362231 urgent mobil 07xxxxxxxxx bonu caller prize 2nd attempt reach call 09066362231 asap',\n",
       " '07801543489 guarante latest nokia phone 40gb ipod mp3 player prize txt word collect',\n",
       " 'hi luci hubbi meetin day fri b alon hotel u fanci cumin pl leav msg 2day 09099726395 luci x',\n",
       " 'account credit 500 free text messag activ txt word credit 80488 cs',\n",
       " 'sm ac jsco energi high u may know 2channel 2day ur leadership skill r strong psychic repli an end repli end jsco',\n",
       " 'hot live fantasi call 08707509020 20p per min ntt ltd po box 1327 croydon cr9 5wb 0870 nation rate call',\n",
       " 'thank vote sing along star karaok mobil free link repli sing',\n",
       " 'brand new mobil music servic live free music player arriv shortli instal phone brows content top artist',\n",
       " 'urgent mobil award bonu caller prize 2nd attempt contact call box95qu bt nation rate',\n",
       " 'nokia 7250i get win free auction take part send nokia 86021',\n",
       " 'hello orang 1 month free access game news sport plu 10 free text 20 photo messag repli ye term appli',\n",
       " 'ur current 500 pound maxim ur send go 86688 cc 08718720201',\n",
       " 'sm auction brand new nokia 7250 4 auction today auction free 2 join take part txt nokia 86021',\n",
       " 'privat 2003 account statement show 800 point call 08719899230 identifi code 41685 expir',\n",
       " 'regist subscrib yr draw 4 gift voucher b enter receipt correct an next olymp txt an 80062',\n",
       " 'urgent mobil number award prize guarante call 09061790121 land line claim valid 12hr 150ppm',\n",
       " 'pro video club need help info call 08701237397 must club credit redeem enjoy',\n",
       " 'u secret admir look 2 make contact r reveal think ur 09058094599',\n",
       " '500 free text msg text ok 80488 credit account',\n",
       " 'select stay 1 250 top british hotel noth holiday worth claim call london bx 526 sw73ss',\n",
       " 'eeri nokia tone 4u rpli tone titl 8007 eg tone dracula 8007 titl ghost addamsfa munster exorcist twilight pobox36504w45wq 150p',\n",
       " '0a network allow compani bill sm respons',\n",
       " 'freemsg feelin kinda lnli hope u like 2 keep compani jst got cam mobi wan na c pic txt repli date 82242 msg150p 2rcv hlp 08712317606 stop 82242',\n",
       " 'ur chanc win cash everi wk txt action c custcar 08712405022',\n",
       " 'rgent 2nd attempt contact u u call 09071512433 b4 050703 csbcm4235wc1n3xx callcost 150ppm mobilesvari 50',\n",
       " 'hi ur lookin 4 sauci daytim fun wiv busti marri woman free next week chat 2 sort time 09099726429 janinexx',\n",
       " 'urgent tri contact today draw show prize guarante call 09050001295 land line claim a21 valid 12hr',\n",
       " 'monthli password wap use wap phone pc',\n",
       " 'today vodafon number end 0089 last four digit select receiv award number match pleas call 09063442151 claim award',\n",
       " 'free top rington weekli 1st week subpoli 3 per',\n",
       " 'free msg sorri servic order 81303 could deliv suffici credit pleas top receiv servic',\n",
       " 'hard live 121 chat choos girl connect live call 09094646899 cheap chat uk biggest live servic vu bcm1896wc1n3xx',\n",
       " 'wow boy r back take 2007 uk tour win vip ticket vip club txt club trackmarqu ltd info vipclub4u',\n",
       " 'hi mandi sullivan call hotmix fm chosen receiv easter prize draw pleas telephon 09041940223 claim prize transfer someon els',\n",
       " 'ur go 2 bahama callfreefon 08081560665 speak live oper claim either bahama cruis cash opt txt x 07786200117',\n",
       " 'someon conact date servic enter phone fanci find call landlin pobox12n146tf15',\n",
       " 'hi 07734396839 ibh custom loyalti offer new nokia6600 mobil txtauction txt word start get 4t',\n",
       " 'sm auction nokia 7250i get win free auction take part send nokia 86021',\n",
       " 'call freephon 0800 542 0578',\n",
       " 'buy space invad 4 chanc 2 win orig arcad game consol press 0 game arcad std wap charg see 4 term set purchas',\n",
       " 'big brother alert comput select u 10k cash 150 voucher call ntt po box cro1327 bt landlin cost 150ppm mobil vari',\n",
       " 'win winner foley ipod excit prize soon keep eye ur mobil visit',\n",
       " 'today voda number end 1225 select receiv match pleas call 08712300220 quot claim code 3100 standard rate app',\n",
       " 'hottest pic straight phone see get wet want xx text pic 89555 txt cost 150p textoper g696ga 18 xxx',\n",
       " 'hack chat get backdoor entri 121 chat room fraction cost repli neo69 call 09050280520 subscrib 25p pm dp bcm box 8027 ldn wc1n3xx',\n",
       " 'free nokia motorola upto 12mth linerent 500 free min free call mobileupd8 08001950382 call',\n",
       " '2nd time tri 2 contact u 750 pound prize 2 claim easi call 08718726970 10p per min',\n",
       " 'guarante cash claim yr prize call custom servic repres',\n",
       " 'would like see xxx pic hot nearli ban uk',\n",
       " 'u secret admir look 2 make contact r reveal think ur 09058094594',\n",
       " 'dear 0776xxxxxxx u invit xchat final attempt contact u txt chat 86688 ldn 18yr',\n",
       " 'urgent pleas call 09061743811 landlin abta complimentari 4 tenerif holiday cash await collect sae cs box 326 cw25wx 150ppm',\n",
       " 'call 09090900040 listen extrem dirti live chat go offic right total privaci one know sic listen 60p min',\n",
       " 'freemsg hey u got 1 fone repli wild txt ill send u pic hurri im bore work xxx 18 stop2stop',\n",
       " 'free entri 2 weekli comp chanc win ipod txt pod 80182 get entri std txt rate c appli 08452810073 detail',\n",
       " 'new textbuddi chat 2 horni guy ur area 4 25p free 2 receiv search postcod txt one name 89693 08715500022 rpl stop 2 cnl',\n",
       " 'call 08702490080 tell u 2 call 09066358152 claim prize u 2 enter ur mobil person detail prompt care',\n",
       " 'free 1st week entri 2 textpod 4 chanc 2 win 40gb ipod cash everi wk txt vpod 81303 ts cs custcar 08712405020',\n",
       " 'peopl dog area call 09090204448 join like mind guy arrang 1 1 even minapn ls278bb',\n",
       " 'well done 4 costa del sol holiday await collect call 09050090044 toclaim sae tc pobox334 stockport sk38xh max10min',\n",
       " 'guess somebodi know secretli fanci wan na find give us call 09065394973 landlin datebox1282essexcm61xn 18',\n",
       " '500 free text messag valid 31 decemb 2005',\n",
       " 'guarante award even cashto claim ur award call free 08000407165 2 stop getstop 88222 php',\n",
       " 'repli win weekli 2006 fifa world cup held send stop 87239 end servic',\n",
       " 'urgent pleas call 09061743810 landlin abta complimentari 4 tenerif holiday 5000 cash await collect sae cs box 326 cw25wx 150 ppm',\n",
       " 'free tone hope enjoy new content text stop 61610 unsubscrib provid',\n",
       " 'themob yo yo come new select hot download member get free click open next link sent ur fone',\n",
       " 'great news call freefon 08006344447 claim guarante cash gift speak live oper',\n",
       " 'u win music gift voucher everi week start txt word draw 87066 tsc',\n",
       " 'call 09094100151 use ur min call cast mob vari servic provid aom aom box61 m60 1er u stop age',\n",
       " 'urgent mobil bonu caller prize 2nd attempt reach call 09066362220 asap box97n7qp 150ppm',\n",
       " 'eeri nokia tone 4u rpli tone titl 8007 eg tone dracula 8007 titl ghost addamsfa munster exorcist twilight pobox36504w45wq 150p',\n",
       " 'sexi singl wait text age follow gender wither f gay men text age follow',\n",
       " 'freemsg claim ur 250 sm ok 84025 use web2mobil 2 ur mate etc join c box139 la32wu 16 remov txtx stop',\n",
       " '85233 free rington repli real',\n",
       " 'well done england get offici poli rington colour flag yer mobil text tone flag 84199 txt eng stop box39822 w111wx',\n",
       " 'final chanc claim ur worth discount voucher today text ye 85023 savamob member offer mobil cs savamob pobox84 m263uz sub 16',\n",
       " 'sm servic inclus text credit pl goto unsubscrib stop extra charg po box420 ip4 5we',\n",
       " 'winner special select receiv cash award speak live oper claim call cost 10p',\n",
       " 'sunshin hol claim ur med holiday send stamp self address envelop drink us uk po box 113 bray wicklow eir quiz start saturday unsub stop',\n",
       " 'u win music gift voucher everi week start txt word draw 87066 tsc skillgam 1winaweek age16 150ppermesssubscript',\n",
       " 'b4u voucher marsm log onto discount credit opt repli stop custom care call 08717168528',\n",
       " 'freemsg hey buffi 25 love satisfi men home alon feel randi repli 2 c pix qlynnbv help08700621170150p msg send stop stop txt',\n",
       " 'free 1st week no1 nokia tone 4 ur mob everi week txt nokia 87077 get txting tell ur mate zed pobox 36504 w45wq',\n",
       " 'free camera phone linerent 750 cross ntwk min price txt bundl deal also avbl call 08001950382 mf',\n",
       " 'urgent mobil 07xxxxxxxxx bonu caller prize 2nd attempt reach call 09066362231 asap box97n7qp 150ppm',\n",
       " 'urgent 4 costa del sol holiday await collect call 09050090044 toclaim sae tc pobox334 stockport sk38xh max10min',\n",
       " 'guarante cash prize claim yr prize call custom servic repres 08714712379 cost 10p',\n",
       " 'thank rington order ref number k718 mobil charg tone arriv pleas call custom servic 09065069120',\n",
       " 'hi ya babe x u 4goten bout scammer get smart though regular vodafon respond get prem rate no use also bewar',\n",
       " 'back 2 work 2morro half term u c 2nite 4 sexi passion b4 2 go back chat 09099726481 luv dena call',\n",
       " 'thank rington order ref number r836 mobil charg tone arriv pleas call custom servic 09065069154',\n",
       " 'splashmobil choos 1000 gr8 tone wk subscrit servic weekli tone cost 300p u one credit kick back enjoy',\n",
       " 'heard u4 call 4 rude chat privat line 01223585334 cum wan 2c pic gettin shag text pix 8552 2end send stop 8552 sam xxx',\n",
       " 'forward 88877 free entri weekli comp send word enter 88877 18 c',\n",
       " '88066 88066 lost 3pound help',\n",
       " 'mobil 11mth updat free orang latest colour camera mobil unlimit weekend call call mobil upd8 freefon 08000839402 2stoptx',\n",
       " '1 new messag pleas call 08718738034',\n",
       " 'forward 21870000 hi mailbox messag sm alert 4 messag 21 match pleas call back 09056242159 retriev messag match',\n",
       " 'mobi pub high street prize u know new duchess cornwal txt first name stop 008704050406 sp arrow',\n",
       " 'nokia 7250i get win free auction take part send nokia 86021',\n",
       " 'congratul thank good friend u xma prize 2 claim easi call 08718726971 10p per minut',\n",
       " 'tddnewslett game thedailydraw dear helen dozen free game great prizeswith',\n",
       " 'urgent mobil number bonu caller prize 2nd attempt reach call 09066368753 asap box 97n7qp 150ppm',\n",
       " 'doubl min txt orang price linerent motorola sonyericsson free call mobileupd8 08000839402',\n",
       " 'download mani rington u like restrict 1000 2 choos u even send 2 yr buddi txt sir 80082',\n",
       " 'pleas call 08712402902 immedi urgent messag wait',\n",
       " 'spook mob halloween collect logo pic messag plu free eeri tone txt card spook 8007 zed 08701417012150p per',\n",
       " 'fantasi footbal back tv go sky gamestar sky activ play dream team score start saturday regist sky opt 88088',\n",
       " 'tone club sub expir 2 repli monoc 4 mono polyc 4 poli 1 weekli 150p per week txt stop 2 stop msg free stream 0871212025016',\n",
       " 'xma prize draw tri contact today draw show prize guarante call 09058094565 land line valid 12hr',\n",
       " 'ye place town meet excit adult singl uk txt chat 86688',\n",
       " 'someon contact date servic enter phone becausethey fanci find call landlin pobox1 w14rg 150p',\n",
       " 'babe u want dont u babi im nasti thing 4 filthyguy fanci rude time sexi bitch go slo n hard txt xxx slo 4msg',\n",
       " 'sm servic inclus text credit pl gotto login 3qxj9 unsubscrib stop extra charg help 08702840625 9ae',\n",
       " 'valentin day special win quiz take partner trip lifetim send go 83600 rcvd',\n",
       " 'guess first time creat web page read wrote wait opinion want friend',\n",
       " 'ur chanc win cash everi wk txt play c custcar 08715705022',\n",
       " 'sppok ur mob halloween collect nokia logo pic messag plu free eeri tone txt card spook 8007',\n",
       " 'urgent call 09066612661 landlin complementari 4 tenerif holiday cash await collect sae cs po box 3 wa14 2px 150ppm sender hol offer',\n",
       " 'winner valu network custom hvae select receiv reward collect call valid 24 hour acl03530150pm',\n",
       " 'u nokia 6230 plu free digit camera u get u win free auction take part send nokia 83383 16',\n",
       " 'free entri weekli comp send word win 80086 18 c',\n",
       " 'text82228 get rington logo game question info',\n",
       " 'freemsg award free mini digit camera repli snap collect prize quizclub opt stop sp rwm',\n",
       " 'messag brought gmw connect',\n",
       " 'congrat 2 mobil 3g videophon r call 09063458130 videochat wid ur mate play java game dload polyph music nolin rentl bx420 ip4 5we 150p',\n",
       " 'next amaz xxx picsfree1 video sent enjoy one vid enough 2day text back keyword picsfree1 get next video',\n",
       " 'u subscrib best mobil content servic uk per ten day send stop helplin 08706091795',\n",
       " '3 free tarot text find love life tri 3 free text chanc 85555 16 3 free msg',\n",
       " 'join uk horniest dog servic u sex 2nite sign follow instruct txt entri 69888 150p',\n",
       " 'knock knock txt whose 80082 enter r weekli draw 4 gift voucher 4 store yr choic cs age16',\n",
       " 'forward 21870000 hi mailbox messag sm alert 40 match pleas call back 09056242159 retriev messag match',\n",
       " 'free ring tone text everi week get new tone 0870737910216yr',\n",
       " 'urgent mobil 077xxx bonu caller prize 2nd attempt reach call 09066362206 asap box97n7qp 150ppm',\n",
       " 'guarante latest nokia phone 40gb ipod mp3 player prize txt word collect 83355 ibhltd ldnw15h',\n",
       " 'hello darl today would love chat dont tell look like sexi',\n",
       " '8007 free 1st week no1 nokia tone 4 ur mob everi week txt nokia 8007 get txting tell ur mate pobox 36504 w4 5wq norm',\n",
       " 'wan na get laid 2nite want real dog locat sent direct ur mobil join uk largest dog network txt park 69696 nyt ec2a 3lp',\n",
       " 'tri contact respons offer new nokia fone camcord hit repli call 08000930705 deliveri',\n",
       " 'new tone week includ 1 ab 2 sara 3 order follow instruct next messag',\n",
       " 'urgent tri contact today draw show prize guarante call 09050003091 land line claim c52 valid 12hr',\n",
       " 'sport fan get latest sport news str 2 ur mobil 1 wk free plu free tone txt sport 8007 norm',\n",
       " 'urgent urgent 800 free flight europ give away call b4 10th sept take friend 4 free call claim ba128nnfwfly150ppm',\n",
       " '88066 lost help',\n",
       " 'freemsg fanci flirt repli date join uk fastest grow mobil date servic msg rcvd 25p optout txt stop repli date',\n",
       " 'great new offer doubl min doubl txt best orang tariff get latest camera phone 4 free call mobileupd8 free 08000839402 2stoptxt cs',\n",
       " 'hope enjoy new content text stop 61610 unsubscrib provid',\n",
       " 'urgent pleas call 09066612661 landlin cash luxuri 4 canari island holiday await collect cs sae award 20m12aq 150ppm',\n",
       " 'urgent pleas call 09066612661 landlin complimentari 4 lux costa del sol holiday cash await collect ppm 150 sae cs jame 28 eh74rr',\n",
       " 'marri local women look discreet action 5 real match instantli phone text match 69969 msg cost 150p 2 stop txt stop bcmsfwc1n3xx',\n",
       " 'burger king wan na play footi top stadium get 2 burger king 1st sept go larg super walk winner',\n",
       " 'come take littl time child afraid dark becom teenag want stay night',\n",
       " 'ur chanc win cash everi wk txt action c custcar 08712405022',\n",
       " 'bin award play 4 instant cash call 08715203028 claim everi 9th player win min optout 08718727870',\n",
       " 'freemsg fav xma tone repli real',\n",
       " 'decemb mobil entitl updat latest colour camera mobil free call mobil updat co free 08002986906',\n",
       " 'gr8 poli tone 4 mob direct 2u rpli poli titl 8007 eg poli breathe1 titl crazyin sleepingwith finest ymca pobox365o4w45wq 300p',\n",
       " 'interflora late order interflora flower christma call 0800 505060 place order midnight tomorrow',\n",
       " 'romcapspam everyon around respond well presenc sinc warm outgo bring real breath sunshin',\n",
       " 'congratul thank good friend u xma prize 2 claim easi call 08712103738 10p per minut',\n",
       " 'send logo 2 ur lover 2 name join heart txt love name1 name2 mobno eg love adam eve 07123456789 87077 yahoo pobox36504w45wq txtno 4 ad 150p',\n",
       " 'tkt euro2004 cup final cash collect call 09058099801 b4190604 pobox 7876150ppm',\n",
       " 'jamster get crazi frog sound poli text mad1 real text mad2 88888 6 crazi sound 3 c appli',\n",
       " 'chanc realiti fantasi show call 08707509020 20p per min ntt ltd po box 1327 croydon cr9 5wb 0870 nation rate call',\n",
       " 'adult 18 content video shortli',\n",
       " 'chanc realiti fantasi show call 08707509020 20p per min ntt ltd po box 1327 croydon cr9 5wb 0870 nation rate call',\n",
       " 'hey boy want hot xxx pic sent direct 2 ur phone txt porn 69855 24hr free 50p per day stop text stopbcm sf wc1n3xx',\n",
       " 'doubl min 1000 txt orang tariff latest motorola sonyericsson nokia bluetooth free call mobileupd8 08000839402 yhl',\n",
       " 'ur current 500 pound maxim ur send cash 86688 cc 08718720201 po box',\n",
       " 'urgent mobil number award prize guarante call 09058094454 land line claim valid 12hr',\n",
       " 'sorri u unsubscrib yet mob offer packag min term 54 week pl resubmit request expiri repli themob help 4 info',\n",
       " '1 new messag pleas call 08712400200',\n",
       " 'current messag await collect collect messag call 08718723815',\n",
       " 'urgent mobil award bonu caller prize final attempt 2 contact u call 08714714011',\n",
       " 'ever notic drive anyon go slower idiot everyon drive faster maniac',\n",
       " 'xma offer latest motorola sonyericsson nokia free bluetooth dvd doubl min 1000 txt orang call mobileupd8 08000839402',\n",
       " 'repli win weekli profession sport tiger wood play send stop 87239 end servic',\n",
       " '1 polyphon tone 4 ur mob everi week txt pt2 87575 1st tone free get txtin tell ur friend 16 repli hl 4info',\n",
       " 'messag free welcom new improv sex dog club unsubscrib servic repli stop msg 150p',\n",
       " '12mth half price orang line rental 400min call mobileupd8 08000839402',\n",
       " 'free unlimit hardcor porn direct 2 mobil txt porn 69200 get free access 24 hr chrgd 50p per day txt stop 2exit msg free',\n",
       " 'unsubscrib servic get ton sexi babe hunk straight phone go http subscript',\n",
       " 'hi babe jordan r u im home abroad lone text back u wan na chat xxsp text stop stopcost 150p 08712400603',\n",
       " 'get brand new mobil phone agent mob plu load goodi info text mat 87021',\n",
       " 'lord ring return king store repli lotr 2 june 4 chanc 2 win lotr soundtrack cd stdtxtrate repli stop end txt',\n",
       " 'good luck draw take place 28th feb good luck remov send stop 87239 custom servic 08708034412',\n",
       " '1st wk free gr8 tone str8 2 u wk txt nokia 8007 classic nokia tone hit 8007 poli',\n",
       " 'lookatm thank purchas video clip lookatm charg 35p think better send video mmsto 32323',\n",
       " 'sexi sexi cum text im wet warm readi porn u fun msg free recd msg 150p inc vat 2 cancel text stop',\n",
       " '2nd time tri contact u prize claim call 09053750005 b4 sm 08718725756 140ppm',\n",
       " 'dear voucher holder claim week offer pc pleas go http ts cs appli',\n",
       " '2nd time tri 2 contact u 750 pound prize 2 claim easi call 08712101358 10p per min',\n",
       " 'ur award citi break could win summer shop spree everi wk txt store',\n",
       " 'urgent tri contact today draw show prize guarante call 09066358361 land line claim y87 valid 12hr',\n",
       " 'thank rington order refer number x29 mobil charg tone arriv pleas call custom servic 09065989180',\n",
       " 'ur current 500 pound maxim ur send collect 83600 cc 08718720201 po box',\n",
       " 'congratul thank good friend u xma prize 2 claim easi call 08718726978 10p per minut',\n",
       " '44 7732584351 want new nokia 3510i colour phone deliveredtomorrow 300 free minut mobil 100 free text free camcord repli call 08000930705',\n",
       " 'someon u know ask date servic 2 contact cant guess call 09058097189 reveal pobox 6 ls15hb 150p',\n",
       " 'camera award sipix digit camera call 09061221066 fromm landlin deliveri within 28 day',\n",
       " 'today voda number end 5226 select receiv 350 award hava match pleas call 08712300220 quot claim code 1131 standard rate app',\n",
       " 'messag free welcom new improv sex dog club unsubscrib servic repli stop msg 150p 18',\n",
       " 'rct thnq adrian u text rgd vatian',\n",
       " 'contact date servic someon know find call land line pobox45w2tg150p',\n",
       " 'sorri miss call let talk time 07090201529',\n",
       " 'complimentari 4 star ibiza holiday cash need urgent collect 09066364349 landlin lose',\n",
       " 'free msg bill mobil number mistak shortcod call 08081263000 charg call free bt landlin',\n",
       " 'pleas call 08712402972 immedi urgent messag wait',\n",
       " 'urgent mobil number award bonu caller prize call 09058095201 land line valid 12hr',\n",
       " 'want new nokia 3510i colour phone deliveredtomorrow 300 free minut mobil 100 free text free camcord repli call 08000930705',\n",
       " 'life never much fun great came made truli special wo forget enjoy one',\n",
       " 'want new video phone 600 anytim network min 400 inclus video call download 5 per week free deltomorrow call 08002888812 repli',\n",
       " 'valu custom pleas advis follow recent review mob award bonu prize call 09066368470',\n",
       " 'welcom pleas repli age gender begin 24m',\n",
       " 'freemsg unlimit free call activ smartcal txt call unlimit call help 08448714184 stop txt stop landlineonli',\n",
       " 'mobil 10 mth updat latest orang phone free save free call text ye callback orno opt',\n",
       " 'new 2 club dont fink met yet b gr8 2 c u pleas leav msg 2day wiv ur area 09099726553 repli promis carli x lkpobox177hp51fl',\n",
       " 'camera award sipix digit camera call 09061221066 fromm landlin deliveri within 28 day',\n",
       " 'get free mobil video player free movi collect text go free extra film order c appli 18 yr',\n",
       " 'save money wed lingeri choos superb select nation deliveri brought weddingfriend',\n",
       " 'heard u4 call night knicker make beg like u last time 01223585236 xx luv',\n",
       " 'bloomberg center wait appli futur http',\n",
       " 'want new video phone750 anytim network min 150 text five pound per week call 08000776320 repli deliveri tomorrow',\n",
       " 'contact date servic someon know find call land line pobox45w2tg150p',\n",
       " 'wan2 win westlif 4 u m8 current tour 1 unbreak 2 untam 3 unkempt text 3 cost 50p text',\n",
       " 'dorothi bank granit issu explos pick member 300 nasdaq symbol cdgt per',\n",
       " 'winner guarante caller prize final attempt contact claim call 09071517866 150ppmpobox10183bhamb64x',\n",
       " 'xma new year eve ticket sale club day 10am till 8pm thur fri sat night week sell fast',\n",
       " 'rock yr chik get 100 filthi film xxx pic yr phone rpli filth saristar ltd e14 9yt 08701752560 450p per 5 day stop2 cancel',\n",
       " 'next month get upto 50 call 4 ur standard network charg 2 activ call 9061100010 c 1st4term pobox84 m26 3uz cost min mobcudb',\n",
       " 'urgent tri contact u today draw show prize guarante call 09050000460 land line claim j89 po box245c2150pm',\n",
       " 'text banneduk 89555 see cost 150p textoper g696ga xxx',\n",
       " 'auction round highest bid next maximum bid bid send bid 10 bid good luck',\n",
       " 'collect valentin weekend pari inc flight hotel prize guarante text pari',\n",
       " 'custom loyalti offer new nokia6650 mobil txtauction txt word start 81151 get 4t ctxt tc',\n",
       " 'wo believ true incred txt repli g learn truli amaz thing blow mind o2fwd',\n",
       " 'hot n horni will live local text repli hear strt back 150p per msg netcollex ltdhelpdesk 02085076972 repli stop end',\n",
       " 'want new nokia 3510i colour phone deliv tomorrow 200 free minut mobil 100 free text free camcord repli call 08000930705',\n",
       " 'congratul winner august prize draw call 09066660100 prize code 2309',\n",
       " '8007 25p 4 alfi moon children need song ur mob tell ur m8 txt tone chariti 8007 nokia poli chariti poli zed 08701417012 profit 2 chariti',\n",
       " 'get offici england poli rington colour flag yer mobil tonight game text tone flag optout txt eng stop box39822 w111wx',\n",
       " 'custom servic announc recent tri make deliveri unabl pleas call 07090298926',\n",
       " 'stop club tone repli see html term club tone cost mfl',\n",
       " 'wamma get laid want real doggin locat sent direct mobil join uk largest dog network txt dog 69696 nyt ec2a 3lp',\n",
       " 'promot number 8714714 ur award citi break could win summer shop spree everi wk txt store 88039 skilgm tscs087147403231winawk age16',\n",
       " 'winner special select receiv cash award speak live oper claim call cost 10p',\n",
       " 'thank rington order refer number x49 mobil charg tone arriv pleas call custom servic text txtstar',\n",
       " 'hi 2night ur lucki night uve invit 2 xchat uk wildest chat txt chat 86688 ldn 18yr',\n",
       " '146tf150p',\n",
       " 'dear voucher holder 2 claim 1st class airport loung pass use holiday voucher call book quot 1st class x 2',\n",
       " 'someon u know ask date servic 2 contact cant guess call 09058095107 reveal pobox 7 s3xi 150p',\n",
       " 'mila age23 blond new uk look sex uk guy u like fun text mtalk 1st 5free increment help08718728876',\n",
       " 'claim 200 shop spree call 08717895698 mobstorequiz10ppm',\n",
       " 'want funk ur fone weekli new tone repli tones2u 2 text origin n best tone 3gbp network oper rate appli',\n",
       " 'twink bear scalli skin jock call miss weekend fun call 08712466669 2 stop text call 08712460324 nat rate',\n",
       " 'tri contact repli offer video handset 750 anytim network min unlimit text camcord repli call 08000930705',\n",
       " 'urgent tri contact last weekend draw show prize guarante call claim code k61 valid 12hour',\n",
       " '74355 xma iscom ur award either cd gift voucher free entri 2 r weekli draw txt music 87066 tnc',\n",
       " 'congratul u claim 2 vip row ticket 2 c blu concert novemb blu gift guarante call 09061104276 claim ts cs',\n",
       " 'free msg singl find partner area 1000 real peopl wait chat send chat 62220cncl send stopc per msg',\n",
       " 'win newest potter order phoenix book 5 repli harri answer 5 question chanc first among reader',\n",
       " 'free msg rington http wml 37819',\n",
       " 'oh god found number glad text back xafter msg cst std ntwk chg',\n",
       " 'link pictur sent also use http',\n",
       " 'doubl min 1000 txt orang tariff latest motorola sonyericsson nokia bluetooth free call mobileupd8 08000839402',\n",
       " 'urgent 2nd attempt contact prize yesterday still await collect claim call acl03530150pm',\n",
       " 'dear dave final notic collect 4 tenerif holiday 5000 cash award call 09061743806 landlin tc sae box326 cw25wx 150ppm',\n",
       " 'tell u 2 call 09066358152 claim prize u 2 enter ur mobil person detail prompt care',\n",
       " '2004 account 07xxxxxxxxx show 786 unredeem point claim call 08719181259 identifi code xxxxx expir',\n",
       " 'want new video handset 750 anytim network min half price line rental camcord repli call 08000930705 deliveri tomorrow',\n",
       " 'free rington repli real poli eg real1 pushbutton dontcha babygoodby golddigg webeburnin 1st tone free 6 u join',\n",
       " 'free msg get gnarl barkley rington total free repli go messag right',\n",
       " 'refus loan secur unsecur ca get credit call free 0800 195 6669 text back',\n",
       " 'special select receiv award call 08712402050 line close cost 10ppm cs appli ag promo',\n",
       " 'valu vodafon custom comput pick win prize collect easi call 09061743386',\n",
       " 'free video camera phone half price line rental 12 mth 500 cross ntwk min 100 txt call mobileupd8 08001950382',\n",
       " 'ringtonek 84484',\n",
       " 'rington club gr8 new poli direct mobil everi week',\n",
       " 'bank granit issu explos pick member 300 nasdaq symbol cdgt per',\n",
       " 'bore housew chat n date rate landlin',\n",
       " 'tri call repli sm video mobil 750 min unlimit text free camcord repli call 08000930705 del thur',\n",
       " '2nd time tri contact u prize 2 claim easi call 087104711148 10p per minut',\n",
       " 'receiv week tripl echo rington shortli enjoy',\n",
       " 'u select stay 1 250 top british hotel noth holiday valu dial 08712300220 claim nation rate call bx526 sw73ss',\n",
       " 'chosen receiv award pl call claim number 09066364311 collect award select receiv valu mobil custom',\n",
       " 'win cash prize prize worth',\n",
       " 'thank rington order refer number mobil charg tone arriv pleas call custom servic 09065989182',\n",
       " 'mobi pub high street prize u know new duchess cornwal txt first name stop 008704050406 sp',\n",
       " 'week savamob member offer access call 08709501522 detail savamob pobox 139 la3 2wu savamob offer mobil',\n",
       " 'contact date servic someon know find call mobil landlin 09064017305 pobox75ldns7',\n",
       " 'chase us sinc sept definit pay thank inform ignor kath manchest',\n",
       " 'loan purpos even bad credit tenant welcom call 08717111821',\n",
       " '87077 kick new season 2wk free goal news ur mobil txt ur club name 87077 eg villa 87077',\n",
       " 'orang bring rington time chart hero free hit week go rington pic wap stop receiv tip repli stop',\n",
       " 'privat 2003 account statement 07973788240 show 800 point call 08715203649 identifi code 40533 expir',\n",
       " 'tri call repli sm video mobil 750 min unlimit text free camcord repli call 08000930705',\n",
       " 'gsoh good spam ladi u could b male gigolo 2 join uk fastest grow men club repli oncal mjzgroup repli stop msg',\n",
       " 'hot live fantasi call 08707500020 20p per min ntt ltd po box 1327 croydon cr9 5wb 0870 nation rate call',\n",
       " 'urgent mobil number award ukp 2000 prize guarante call 09061790125 landlin claim valid 12hr 150ppm',\n",
       " 'spjanuari male sale hot gay chat cheaper call nation rate cheap peak stop text call 08712460324',\n",
       " 'freemsg today day readi horni live town love sex fun game netcollex ltd 08700621170150p per msg repli stop end',\n",
       " 'simpson movi releas juli 2007 name band die start film day day day send b c',\n",
       " 'pleas call amanda regard renew upgrad current handset free charg offer end today tel 0845 021 3680 subject c',\n",
       " 'want new video phone 750 anytim network min half price line rental free text 3 month repli call 08000930705 free deliveri',\n",
       " 'dear voucher holder claim week offer pc pleas go http ts cs appli',\n",
       " 'urgent pleas call abta complimentari 4 spanish holiday cash await collect sae cs box 47 po19 2ez 150ppm',\n",
       " 'cmon babe make horni turn txt fantasi babe im hot sticki need repli cost 2 cancel send stop',\n",
       " 'import inform 4 orang user 0796xxxxxx today ur lucki day 2 find log onto http fantast prizeawait',\n",
       " 'miss call alert number call left messag 07008009200',\n",
       " 'freemsg record indic may entitl 3750 pound accid claim free repli ye msg opt text stop',\n",
       " 'show ur colour euro 2004 offer get england flag 3lion tone ur phone click follow servic messag info',\n",
       " 'text pass 69669 collect polyphon rington normal gpr charg appli enjoy tone',\n",
       " 'accordingli repeat text word ok mobil phone send',\n",
       " 'block breaker come delux format new featur great graphic buy repli get bbdelux take challeng',\n",
       " 'import inform 4 orang user today lucki day 2find log onto http fantast surpris await',\n",
       " 'natalja invit friend repli see stop send stop frnd 62468',\n",
       " 'urgent import inform 02 user today lucki day 2 find log onto http fantast surpris await',\n",
       " 'kit strip bill 150p netcollex po box 1013 ig11 oja',\n",
       " 'pleas call 08712402578 immedi urgent messag wait',\n",
       " 'let send free anonym mask messag im send messag see potenti abus',\n",
       " 'congrat 2 mobil 3g videophon r call 09061744553 videochat wid ur mate play java game dload polyh music nolin rentl bx420 ip4 5we 150pm',\n",
       " 'import inform 4 orang user 0789xxxxxxx today lucki day 2find log onto http fantast surpris await',\n",
       " 'date servic ask 2 contact u someon shi call 09058091870 reveal pobox84 m26 3uz 150p',\n",
       " 'want new video handset 750 time network min unlimit text camcord repli call 08000930705 del sat',\n",
       " 'ur balanc next question complet landmark big bob barri ben text b c good luck',\n",
       " 'ur tonex subscript renew charg choos 10 poli month bill msg',\n",
       " 'prize go anoth custom c polo ltd suit 373 london w1j 6hl pleas call back busi',\n",
       " 'want new nokia 3510i colour phone deliv tomorrow 200 free minut mobil 100 free text free camcord repli call 8000930705',\n",
       " 'recpt order rington order process',\n",
       " 'one regist subscrib u enter draw 4 100 gift voucher repli enter unsubscrib text stop',\n",
       " 'chanc win free bluetooth headset simpli repli back',\n",
       " 'b floppi b snappi happi gay chat servic photo upload call 08718730666 2 stop text call 08712460324',\n",
       " 'welcom msg free give free call futur mg bill 150p daili cancel send 89123',\n",
       " 'receiv mobil content enjoy',\n",
       " 'want explicit sex 30 sec ring 02073162414 cost',\n",
       " 'latest nokia mobil ipod mp3 player proze guarante repli win 83355 norcorp',\n",
       " 'sm servic inclus text credit pl goto 3qxj9 unsubscrib stop extra charg help 9ae',\n",
       " 'mobil club choos top qualiti item mobil 7cfca1a',\n",
       " 'money wine number 946 wot next',\n",
       " 'want cock hubbi away need real man 2 satisfi txt wife 89938 string action txt stop 2 end txt rec otbox 731 la1 7w',\n",
       " 'gr8 new servic live sex video chat mob see sexiest dirtiest girl live ur phone 4 detail text horni 89070 cancel send stop 89070',\n",
       " 'freemsg hi babi wow got new cam mobi wan na c hot pic fanci chat im w8in 4utxt rpli chat 82242 hlp 08712317606 msg150p 2rcv',\n",
       " 'wan na laugh tri mobil logon txting word chat send 8883 cm po box 4217 london w1a 6zf rcvd',\n",
       " '2nd attempt contact u u 09071512432 b4 300603t',\n",
       " 'congratul ur award 500 cd voucher 125gift guarante free entri 2 100 wkli draw txt music 87066',\n",
       " 'contract mobil 11 mnth latest motorola nokia etc free doubl min text orang tariff text ye callback remov record',\n",
       " 'urgent call 09066350750 landlin complimentari 4 ibiza holiday cash await collect sae cs po box 434 sk3 8wp 150 ppm',\n",
       " 'u secret admir look 2 make contact r reveal think ur',\n",
       " 'freemsg txt call 86888 claim reward 3 hour talk time use phone inc 3hr 16 stop txtstop',\n",
       " 'sunshin quiz win super soni dvd record cannam capit australia text mquiz b',\n",
       " 'today voda number end 7634 select receiv reward match pleas call 08712300220 quot claim code 7684 standard rate appli',\n",
       " 'rip get mobil content call 08717509990 six download 3',\n",
       " 'tri contact repli offer video phone 750 anytim network min half price line rental camcord repli call 08000930705',\n",
       " 'xma reward wait comput randomli pick loyal mobil custom receiv reward call 09066380611',\n",
       " 'privat 2003 account statement show 800 point call 08718738002 identifi code 48922 expir',\n",
       " 'custom servic announc recent tri make deliveri unabl pleas call 07099833605',\n",
       " 'hi babe chloe r u smash saturday night great weekend u miss sp text stop stop',\n",
       " 'urgent mobil 07808726822 award bonu caller prize 2nd attempt contact call box95qu',\n",
       " 'free game get rayman golf 4 free o2 game arcad 1st get ur game set repli post save activ8 press 0 key arcad termsappli',\n",
       " 'mobil 10 mth updat latest phone free keep ur number get extra free text ye call',\n",
       " 'weekli tone readi download week new tone includ 1 crazi f 2 3 black p info n',\n",
       " 'get lot cash weekend dear welcom weekend got biggest best ever cash give away',\n",
       " 'thank 4 continu support question week enter u in2 draw 4 cash name new us presid txt an 80082',\n",
       " 'uniqu user id remov send stop 87239 custom servic 08708034412',\n",
       " 'urgent 09066649731from landlin complimentari 4 ibiza holiday cash await collect sae cs po box 434 sk3 8wp 150ppm',\n",
       " 'urgent 2nd attempt contact prize yesterday still await collect claim call 09061702893',\n",
       " 'santa call would littl one like call santa xma eve call 09077818151 book time last 3min 30 c',\n",
       " 'privat 2004 account statement 078498 7 show 786 unredeem bonu point claim call 08719180219 identifi code 45239 expir',\n",
       " 'check choos babe video fgkslpopw fgkslpo',\n",
       " 'u r winner u ave special select 2 receiv cash 4 holiday flight inc speak live oper 2 claim 18',\n",
       " 'new mobil 2004 must go txt nokia 89545 collect today 2optout txtauction',\n",
       " 'privat 2003 account statement show 800 point call 08715203652 identifi code 42810 expir',\n",
       " 'valu vodafon custom comput pick win prize collect easi call 09061743386',\n",
       " 'free messag thank use auction subscript servic 18 2 skip auction txt 2 unsubscrib txt stop customercar 08718726270',\n",
       " 'lyricalladi invit friend repli see stop send stop frnd 62468',\n",
       " 'want latest video handset 750 anytim network min half price line rental repli call 08000930705 deliveri tomorrow',\n",
       " 'ou guarante latest nokia phone 40gb ipod mp3 player prize txt word collect 83355 ibhltd ldnw15h',\n",
       " 'free polyphon rington text super 87131 get free poli tone week 16 sn pobox202 nr31 7z subscript 450pw',\n",
       " 'warner villag 83118 c colin farrel swat wkend warner villag get 1 free med popcorn show c c kiosk repli soni 4 mre film offer',\n",
       " 'goal arsen 4 henri 7 v liverpool 2 henri score simpl shot 6 yard pass bergkamp give arsen 2 goal margin 78 min',\n",
       " 'hi sexychat girl wait text text great night chat send stop stop servic',\n",
       " 'hi ami send free phone number coupl day give access adult parti',\n",
       " 'welcom select o2 servic ad benefit call special train advisor free mobil diall 402',\n",
       " 'dear voucher holder next meal us use follow link pc 2 enjoy 2 4 1 dine experiencehttp',\n",
       " 'urgent tri contact today draw show prize guarante call 09058094507 land line claim valid 12hr',\n",
       " 'donat unicef asian tsunami disast support fund text donat 864233 ad next bill',\n",
       " 'goldvik invit friend repli see stop send stop frnd 62468',\n",
       " 'phoni award today voda number end xxxx select receiv award match pleas call 08712300220 quot claim code 3100 standard rate app',\n",
       " 'cd 4u congratul ur award cd gift voucher gift guarante freeentri 2 wkli draw xt music 87066 tnc',\n",
       " 'guarante cash prize claim yr prize call custom servic repres 08714712412 cost 10p',\n",
       " 'dear 0776xxxxxxx u invit xchat final attempt contact u txt chat 86688 ldn 18yr',\n",
       " 'ur current 500 pound maxim ur send go 86688 cc 08718720201',\n",
       " 'privat 2003 account statement show 800 point call 08715203685 identifi expir',\n",
       " 'like tell deepest darkest fantasi call 09094646631 stop text call 08712460324 nat rate',\n",
       " 'natali invit friend repli see stop send stop frnd 62468',\n",
       " 'jamster get free wallpap text heart 88888 c appli 16 need help call 08701213186',\n",
       " 'free video camera phone half price line rental 12 mth 500 cross ntwk min 100 txt call mobileupd8 08001950382',\n",
       " '83039 uk break accommodationvouch term condit appli 2 claim mustprovid claim number 15541',\n",
       " '5p 4 alfi moon children need song ur mob tell ur m8 txt tone chariti 8007 nokia poli chariti poli zed 08701417012 profit 2 chariti',\n",
       " 'win shop spree everi week start 2 play text store skilgm tscs08714740323 1winawk age16',\n",
       " '2nd attempt contract u week top prize either cash prize call 09066361921',\n",
       " 'want new nokia 3510i colour phone deliveredtomorrow 300 free minut mobil 100 free text free camcord repli call 08000930705',\n",
       " 'themob hit link get premium pink panther game new 1 sugabab crazi zebra anim badass hoodi 4 free',\n",
       " 'msg mobil content order resent previou attempt fail due network error queri customersqueri',\n",
       " '1 new messag pleas call 08715205273',\n",
       " 'decemb mobil entitl updat latest colour camera mobil free call mobil updat vco free 08002986906',\n",
       " 'get 3 lion england tone repli lionm 4 mono lionp 4 poli 4 go 2 origin n best tone 3gbp network oper rate appli',\n",
       " 'privat 2003 account statement 078',\n",
       " '4 costa del sol holiday await collect call 09050090044 toclaim sae tc pobox334 stockport sk38xh max10min',\n",
       " 'get garden readi summer free select summer bulb seed worth scotsman saturday stop go2',\n",
       " 'sm auction brand new nokia 7250 4 auction today auction free 2 join take part txt nokia 86021',\n",
       " 'ree entri 2 weekli comp chanc win ipod txt pod 80182 get entri std txt rate c appli 08452810073 detail',\n",
       " 'record indic u mayb entitl 5000 pound compens accid claim 4 free repli claim msg 2 stop txt stop',\n",
       " 'spook mob halloween collect logo pic messag plu free eeri tone txt card spook 8007 zed 08701417012150p per',\n",
       " 'call germani 1 penc per minut call fix line via access number 0844 861 85 prepay direct access',\n",
       " 'mobil 11mth updat free orang latest colour camera mobil unlimit weekend call call mobil upd8 freefon 08000839402 2stoptxt',\n",
       " 'privat 2003 account statement fone show 800 point call 08715203656 identifi code 42049 expir',\n",
       " 'someonon know tri contact via date servic find could call mobil landlin 09064015307 box334sk38ch',\n",
       " 'urgent pleas call 09061213237 landlin cash 4 holiday await collect cs sae po box 177 m227xi',\n",
       " 'prize go anoth custom c polo ltd suit 373 london w1j 6hl pleas call back busi',\n",
       " 'urgent mobil number award prize guarante call 09061790126 land line claim valid 12hr 150ppm',\n",
       " 'urgent pleas call 09061213237 landlin cash luxuri 4 canari island holiday await collect cs sae po box m227xi 150ppm',\n",
       " 'xma iscom ur award either cd gift voucher free entri 2 r weekli draw txt music 87066 tnc',\n",
       " 'u r subscrib 2 textcomp 250 wkli comp 1st wk free question follow subsequ wk charg unsubscrib txt stop 2 84128 custcar 08712405020',\n",
       " 'call 09095350301 send girl erot ecstaci stop text call 08712460324 nat rate',\n",
       " 'xma reward wait comput randomli pick loyal mobil custom receiv reward call 09066380611',\n",
       " 'import messag final contact attempt import messag wait custom claim dept expir call 08717507382',\n",
       " 'date two start sent text talk sport radio last week connect think coincid',\n",
       " 'current lead bid paus auction send custom care 08718726270',\n",
       " 'free entri gr8prize wkli comp 4 chanc win latest nokia 8800 psp cash everi great 80878 08715705022',\n",
       " '1 new messag call',\n",
       " 'santa call would littl one like call santa xma eve call 09058094583 book time',\n",
       " 'guarante 32000 award mayb even cash claim ur award call free 0800 legitimat efreefon number wat u think',\n",
       " 'latest news polic station toilet stolen cop noth go',\n",
       " 'sparkl shop break 45 per person call 0121 2025050 visit',\n",
       " 'txt call 86888 claim reward 3 hour talk time use phone inc 3hr 16 stop txtstop',\n",
       " 'wml c',\n",
       " 'urgent last weekend draw show cash spanish holiday call 09050000332 claim c rstm sw7 3ss 150ppm',\n",
       " 'urgent tri contact last weekend draw show u prize guarante call 09064017295 claim code k52 valid 12hr 150p pm',\n",
       " '2p per min call germani 08448350055 bt line 2p per min check info c text stop opt',\n",
       " 'marvel mobil play offici ultim game ur mobil right text spider 83338 game send u free 8ball wallpap',\n",
       " 'privat 2003 account statement 07808247860 show 800 point call 08719899229 identifi code 40411 expir',\n",
       " 'privat 2003 account statement show 800 point call 08718738001 identifi code 49557 expir',\n",
       " 'want explicit sex 30 sec ring 02073162414 cost gsex pobox 2667 wc1n 3xx',\n",
       " 'ask 3mobil 0870 chatlin inclu free min india cust serv sed ye l8er got mega bill 3 dont giv shit bailiff due day 3 want',\n",
       " 'contract mobil 11 mnth latest motorola nokia etc free doubl min text orang tariff text ye callback remov record',\n",
       " 'remind o2 get pound free call credit detail great offer pl repli 2 text valid name hous postcod',\n",
       " '2nd time tri 2 contact u pound prize 2 claim easi call 087187272008 now1 10p per minut']"
      ]
     },
     "execution_count": 55,
     "metadata": {},
     "output_type": "execute_result"
    }
   ],
   "source": [
    "df[df['target'] == 1]['transformed_text'].tolist()"
   ]
  },
  {
   "cell_type": "raw",
   "id": "b23c12b5",
   "metadata": {},
   "source": [
    "for spam"
   ]
  },
  {
   "cell_type": "code",
   "execution_count": 56,
   "id": "0e56b0a6",
   "metadata": {},
   "outputs": [],
   "source": [
    "spam_corpus = []\n",
    "for msg in df[df['target'] == 1]['transformed_text'].tolist():\n",
    "    for word in msg.split():\n",
    "        spam_corpus.append(word)"
   ]
  },
  {
   "cell_type": "code",
   "execution_count": 57,
   "id": "e8726a35",
   "metadata": {},
   "outputs": [
    {
     "data": {
      "text/plain": [
       "9941"
      ]
     },
     "execution_count": 57,
     "metadata": {},
     "output_type": "execute_result"
    }
   ],
   "source": [
    "len(spam_corpus)"
   ]
  },
  {
   "cell_type": "code",
   "execution_count": 58,
   "id": "7c6961a2",
   "metadata": {},
   "outputs": [
    {
     "ename": "NameError",
     "evalue": "name 'counter' is not defined",
     "output_type": "error",
     "traceback": [
      "\u001b[1;31m---------------------------------------------------------------------------\u001b[0m",
      "\u001b[1;31mNameError\u001b[0m                                 Traceback (most recent call last)",
      "\u001b[1;32m<ipython-input-58-1d8b7cea9627>\u001b[0m in \u001b[0;36m<module>\u001b[1;34m\u001b[0m\n\u001b[1;32m----> 1\u001b[1;33m \u001b[0mpd\u001b[0m\u001b[1;33m.\u001b[0m\u001b[0mDataFrame\u001b[0m\u001b[1;33m(\u001b[0m\u001b[0mcounter\u001b[0m\u001b[1;33m(\u001b[0m\u001b[0mspam_corpus\u001b[0m\u001b[1;33m)\u001b[0m\u001b[1;33m.\u001b[0m\u001b[0mmost_common\u001b[0m\u001b[1;33m(\u001b[0m\u001b[1;36m30\u001b[0m\u001b[1;33m)\u001b[0m\u001b[1;33m)\u001b[0m\u001b[1;33m\u001b[0m\u001b[1;33m\u001b[0m\u001b[0m\n\u001b[0m",
      "\u001b[1;31mNameError\u001b[0m: name 'counter' is not defined"
     ]
    }
   ],
   "source": [
    "pd.DataFrame(counter(spam_corpus).most_common(30))"
   ]
  },
  {
   "cell_type": "code",
   "execution_count": null,
   "id": "0c88b7b9",
   "metadata": {},
   "outputs": [],
   "source": [
    "from collections import Counter\n",
    "sns.barplot(pd.DataFrame(Counter(spam_corpus).most_common(30))[0],pd.DataFrame(Counter(spam_corpus).most_common(30))[1])\n",
    "plt.xticks(rotation='vertical')\n",
    "plt.show()"
   ]
  },
  {
   "cell_type": "raw",
   "id": "6b0dd6e8",
   "metadata": {},
   "source": [
    "For ham"
   ]
  },
  {
   "cell_type": "code",
   "execution_count": 59,
   "id": "8f8d92fd",
   "metadata": {},
   "outputs": [],
   "source": [
    "ham_corpus = []\n",
    "for msg in df[df['target'] == 0]['transformed_text'].tolist():\n",
    "    for word in msg.split():\n",
    "        ham_corpus.append(word)"
   ]
  },
  {
   "cell_type": "code",
   "execution_count": 60,
   "id": "13ae456b",
   "metadata": {},
   "outputs": [
    {
     "data": {
      "text/plain": [
       "35303"
      ]
     },
     "execution_count": 60,
     "metadata": {},
     "output_type": "execute_result"
    }
   ],
   "source": [
    "len(ham_corpus)"
   ]
  },
  {
   "cell_type": "code",
   "execution_count": 61,
   "id": "566ba867",
   "metadata": {},
   "outputs": [
    {
     "name": "stderr",
     "output_type": "stream",
     "text": [
      "C:\\Users\\geeth_glh\\anaconda3\\lib\\site-packages\\seaborn\\_decorators.py:36: FutureWarning: Pass the following variables as keyword args: x, y. From version 0.12, the only valid positional argument will be `data`, and passing other arguments without an explicit keyword will result in an error or misinterpretation.\n",
      "  warnings.warn(\n"
     ]
    },
    {
     "data": {
      "image/png": "[encoded data removed]",
      "text/plain": [
       "<Figure size 432x288 with 1 Axes>"
      ]
     },
     "metadata": {
      "needs_background": "light"
     },
     "output_type": "display_data"
    }
   ],
   "source": [
    "from collections import Counter\n",
    "sns.barplot(pd.DataFrame(Counter(ham_corpus).most_common(30))[0],pd.DataFrame(Counter(ham_corpus).most_common(30))[1])\n",
    "plt.xticks(rotation='vertical')\n",
    "plt.show()"
   ]
  },
  {
   "cell_type": "code",
   "execution_count": 62,
   "id": "793f72b6",
   "metadata": {},
   "outputs": [
    {
     "data": {
      "text/html": [
       "<div>\n",
       "<style scoped>\n",
       "    .dataframe tbody tr th:only-of-type {\n",
       "        vertical-align: middle;\n",
       "    }\n",
       "\n",
       "    .dataframe tbody tr th {\n",
       "        vertical-align: top;\n",
       "    }\n",
       "\n",
       "    .dataframe thead th {\n",
       "        text-align: right;\n",
       "    }\n",
       "</style>\n",
       "<table border=\"1\" class=\"dataframe\">\n",
       "  <thead>\n",
       "    <tr style=\"text-align: right;\">\n",
       "      <th></th>\n",
       "      <th>target</th>\n",
       "      <th>text</th>\n",
       "      <th>num_characters</th>\n",
       "      <th>num_words</th>\n",
       "      <th>num_sentences</th>\n",
       "      <th>transformed_text</th>\n",
       "    </tr>\n",
       "  </thead>\n",
       "  <tbody>\n",
       "    <tr>\n",
       "      <th>0</th>\n",
       "      <td>0</td>\n",
       "      <td>Go until jurong point, crazy.. Available only ...</td>\n",
       "      <td>111</td>\n",
       "      <td>24</td>\n",
       "      <td>2</td>\n",
       "      <td>go jurong point crazi avail bugi n great world...</td>\n",
       "    </tr>\n",
       "    <tr>\n",
       "      <th>1</th>\n",
       "      <td>0</td>\n",
       "      <td>Ok lar... Joking wif u oni...</td>\n",
       "      <td>29</td>\n",
       "      <td>8</td>\n",
       "      <td>2</td>\n",
       "      <td>ok lar joke wif u oni</td>\n",
       "    </tr>\n",
       "    <tr>\n",
       "      <th>2</th>\n",
       "      <td>1</td>\n",
       "      <td>Free entry in 2 a wkly comp to win FA Cup fina...</td>\n",
       "      <td>155</td>\n",
       "      <td>37</td>\n",
       "      <td>2</td>\n",
       "      <td>free entri 2 wkli comp win fa cup final tkt 21...</td>\n",
       "    </tr>\n",
       "    <tr>\n",
       "      <th>3</th>\n",
       "      <td>0</td>\n",
       "      <td>U dun say so early hor... U c already then say...</td>\n",
       "      <td>49</td>\n",
       "      <td>13</td>\n",
       "      <td>1</td>\n",
       "      <td>u dun say earli hor u c alreadi say</td>\n",
       "    </tr>\n",
       "    <tr>\n",
       "      <th>4</th>\n",
       "      <td>0</td>\n",
       "      <td>Nah I don't think he goes to usf, he lives aro...</td>\n",
       "      <td>61</td>\n",
       "      <td>15</td>\n",
       "      <td>1</td>\n",
       "      <td>nah think goe usf live around though</td>\n",
       "    </tr>\n",
       "  </tbody>\n",
       "</table>\n",
       "</div>"
      ],
      "text/plain": [
       "   target                                               text  num_characters  \\\n",
       "0       0  Go until jurong point, crazy.. Available only ...             111   \n",
       "1       0                      Ok lar... Joking wif u oni...              29   \n",
       "2       1  Free entry in 2 a wkly comp to win FA Cup fina...             155   \n",
       "3       0  U dun say so early hor... U c already then say...              49   \n",
       "4       0  Nah I don't think he goes to usf, he lives aro...              61   \n",
       "\n",
       "   num_words  num_sentences                                   transformed_text  \n",
       "0         24              2  go jurong point crazi avail bugi n great world...  \n",
       "1          8              2                              ok lar joke wif u oni  \n",
       "2         37              2  free entri 2 wkli comp win fa cup final tkt 21...  \n",
       "3         13              1                u dun say earli hor u c alreadi say  \n",
       "4         15              1               nah think goe usf live around though  "
      ]
     },
     "execution_count": 62,
     "metadata": {},
     "output_type": "execute_result"
    }
   ],
   "source": [
    "df.head()"
   ]
  },
  {
   "cell_type": "markdown",
   "id": "425b52ba",
   "metadata": {},
   "source": [
    "# Model Building"
   ]
  },
  {
   "cell_type": "code",
   "execution_count": 63,
   "id": "0d9eb275",
   "metadata": {},
   "outputs": [],
   "source": [
    "## Vectorizing words using bag of words\n",
    "\n",
    "cv = CountVectorizer()\n",
    "tfidf = TfidfVectorizer(max_features=3000)"
   ]
  },
  {
   "cell_type": "code",
   "execution_count": 64,
   "id": "92edff70",
   "metadata": {},
   "outputs": [],
   "source": [
    "X = tfidf.fit_transform(df['transformed_text']).toarray()"
   ]
  },
  {
   "cell_type": "code",
   "execution_count": 65,
   "id": "054496db",
   "metadata": {},
   "outputs": [],
   "source": [
    "#from sklearn.preprocessing import MinMaxScaler\n",
    "#scaler = MinMaxScaler()\n",
    "#X = scaler.fit_transform(X)\n",
    "# appending the num_character col to X\n",
    "#X = np.hstack((X,df['num_characters'].values.reshape(-1,1)))"
   ]
  },
  {
   "cell_type": "code",
   "execution_count": 66,
   "id": "a0333614",
   "metadata": {},
   "outputs": [
    {
     "data": {
      "text/plain": [
       "(5169, 3000)"
      ]
     },
     "execution_count": 66,
     "metadata": {},
     "output_type": "execute_result"
    }
   ],
   "source": [
    "X.shape"
   ]
  },
  {
   "cell_type": "code",
   "execution_count": 67,
   "id": "b9600abd",
   "metadata": {},
   "outputs": [],
   "source": [
    "Y = df[\"target\"].values"
   ]
  },
  {
   "cell_type": "code",
   "execution_count": 68,
   "id": "98d60016",
   "metadata": {},
   "outputs": [
    {
     "data": {
      "text/plain": [
       "array([0, 0, 1, ..., 0, 0, 0])"
      ]
     },
     "execution_count": 68,
     "metadata": {},
     "output_type": "execute_result"
    }
   ],
   "source": [
    "Y"
   ]
  },
  {
   "cell_type": "code",
   "execution_count": 69,
   "id": "b8146c58",
   "metadata": {},
   "outputs": [
    {
     "data": {
      "text/plain": [
       "(5169,)"
      ]
     },
     "execution_count": 69,
     "metadata": {},
     "output_type": "execute_result"
    }
   ],
   "source": [
    "Y.shape"
   ]
  },
  {
   "cell_type": "code",
   "execution_count": 70,
   "id": "585ebb2f",
   "metadata": {},
   "outputs": [],
   "source": [
    "X_train,X_test,Y_train,Y_test = train_test_split(X,Y,test_size=0.2,random_state=2)"
   ]
  },
  {
   "cell_type": "code",
   "execution_count": 71,
   "id": "249a6002",
   "metadata": {},
   "outputs": [],
   "source": [
    "gnb = GaussianNB()\n",
    "mnb = MultinomialNB()\n",
    "bnb = BernoulliNB()"
   ]
  },
  {
   "cell_type": "code",
   "execution_count": 72,
   "id": "ef5b32b3",
   "metadata": {},
   "outputs": [
    {
     "name": "stdout",
     "output_type": "stream",
     "text": [
      "Accuracy score for Gaussian naive bayes model: 0.8704061895551257\n",
      "Confusion matrix for Gaussian naive bayes model:\n",
      "[[788 108]\n",
      " [ 26 112]]\n",
      "Precision score for Gaussian naive bayes model: 0.509090909090909\n"
     ]
    }
   ],
   "source": [
    "## For Gaussian naive bayes model\n",
    "\n",
    "gnb.fit(X_train,Y_train)\n",
    "\n",
    "Y_pred_gnb = gnb.predict(X_test)\n",
    "\n",
    "print(\"Accuracy score for Gaussian naive bayes model:\",accuracy_score(Y_test,Y_pred_gnb))\n",
    "print(\"Confusion matrix for Gaussian naive bayes model:\")\n",
    "print(confusion_matrix(Y_test,Y_pred_gnb))\n",
    "print(\"Precision score for Gaussian naive bayes model:\",precision_score(Y_test,Y_pred_gnb))"
   ]
  },
  {
   "cell_type": "code",
   "execution_count": 73,
   "id": "cd729169",
   "metadata": {},
   "outputs": [
    {
     "name": "stdout",
     "output_type": "stream",
     "text": [
      "Accuracy score for Multinomial naive bayes model: 0.971953578336557\n",
      "Confusion matrix for Multinomial naive bayes model:\n",
      "[[896   0]\n",
      " [ 29 109]]\n",
      "Precision score for multinomial naive bayes model: 1.0\n"
     ]
    }
   ],
   "source": [
    "## for multinomial naive bayes\n",
    "\n",
    "mnb.fit(X_train,Y_train)\n",
    "Y_pred_mnb = mnb.predict(X_test)\n",
    "print(\"Accuracy score for Multinomial naive bayes model:\",accuracy_score(Y_test,Y_pred_mnb))\n",
    "print(\"Confusion matrix for Multinomial naive bayes model:\")\n",
    "print(confusion_matrix(Y_test,Y_pred_mnb))\n",
    "print(\"Precision score for multinomial naive bayes model:\",precision_score(Y_test,Y_pred_mnb))"
   ]
  },
  {
   "cell_type": "code",
   "execution_count": 74,
   "id": "374e1fdb",
   "metadata": {},
   "outputs": [
    {
     "name": "stdout",
     "output_type": "stream",
     "text": [
      "Accuracy score for Bernoulli naive bayes model: 0.971953578336557\n",
      "Confusion matrix for Bernoulli naive bayes model:\n",
      "[[896   0]\n",
      " [ 29 109]]\n",
      "Precision score for Bernoulli naive bayes model: 1.0\n"
     ]
    }
   ],
   "source": [
    "## for Bernoulli naive bayes\n",
    "\n",
    "bnb.fit(X_train,Y_train)\n",
    "Y_pred_bnb = bnb.predict(X_test)\n",
    "print(\"Accuracy score for Bernoulli naive bayes model:\",accuracy_score(Y_test,Y_pred_mnb))\n",
    "print(\"Confusion matrix for Bernoulli naive bayes model:\")\n",
    "print(confusion_matrix(Y_test,Y_pred_mnb))\n",
    "print(\"Precision score for Bernoulli naive bayes model:\",precision_score(Y_test,Y_pred_mnb))"
   ]
  },
  {
   "cell_type": "raw",
   "id": "80a5143c",
   "metadata": {},
   "source": [
    "For the above aquired measurements we can go either with Multinomial naive bayes or bernoulli naive bayes.\n",
    "since we consider precision: for mnb-->precision-->0\n",
    "                                 bnb-->presision-->0"
   ]
  },
  {
   "cell_type": "markdown",
   "id": "53c3beef",
   "metadata": {},
   "source": [
    "# Comparing MNB with other algorithms"
   ]
  },
  {
   "cell_type": "code",
   "execution_count": 75,
   "id": "7f4886b0",
   "metadata": {},
   "outputs": [],
   "source": [
    "from sklearn.linear_model import LogisticRegression\n",
    "from sklearn.svm import SVC\n",
    "from sklearn.naive_bayes import MultinomialNB\n",
    "from sklearn.tree import DecisionTreeClassifier\n",
    "from sklearn.neighbors import KNeighborsClassifier\n",
    "from sklearn.ensemble import RandomForestClassifier\n",
    "from sklearn.ensemble import AdaBoostClassifier\n",
    "from sklearn.ensemble import BaggingClassifier\n",
    "from sklearn.ensemble import ExtraTreesClassifier\n",
    "from sklearn.ensemble import GradientBoostingClassifier\n",
    "from xgboost import XGBClassifier"
   ]
  },
  {
   "cell_type": "code",
   "execution_count": 76,
   "id": "431cacd8",
   "metadata": {},
   "outputs": [],
   "source": [
    "svc = SVC(kernel='sigmoid', gamma=1.0)\n",
    "knc = KNeighborsClassifier()\n",
    "mnb = MultinomialNB()\n",
    "dtc = DecisionTreeClassifier(max_depth=5)\n",
    "lrc = LogisticRegression(solver='liblinear', penalty='l1')\n",
    "rfc = RandomForestClassifier(n_estimators=50, random_state=2)\n",
    "abc = AdaBoostClassifier(n_estimators=50, random_state=2)\n",
    "bc = BaggingClassifier(n_estimators=50, random_state=2)\n",
    "etc = ExtraTreesClassifier(n_estimators=50, random_state=2)\n",
    "gbdt = GradientBoostingClassifier(n_estimators=50,random_state=2)\n",
    "xgb = XGBClassifier(n_estimators=50,random_state=2)"
   ]
  },
  {
   "cell_type": "code",
   "execution_count": 77,
   "id": "8a173a0a",
   "metadata": {},
   "outputs": [],
   "source": [
    "clfs = {\n",
    "    'SVC' : svc,\n",
    "    'KN' : knc, \n",
    "    'NB': mnb, \n",
    "    'DT': dtc, \n",
    "    'LR': lrc, \n",
    "    'RF': rfc, \n",
    "    'AdaBoost': abc, \n",
    "    'BgC': bc, \n",
    "    'ETC': etc,\n",
    "    'GBDT':gbdt,\n",
    "    'xgb':xgb\n",
    "}"
   ]
  },
  {
   "cell_type": "code",
   "execution_count": 78,
   "id": "092c699e",
   "metadata": {},
   "outputs": [],
   "source": [
    "def train_classifier(clf,X_train,y_train,X_test,y_test):\n",
    "    clf.fit(X_train,y_train)\n",
    "    y_pred = clf.predict(X_test)\n",
    "    accuracy = accuracy_score(y_test,y_pred)\n",
    "    precision = precision_score(y_test,y_pred)\n",
    "    \n",
    "    return accuracy,precision"
   ]
  },
  {
   "cell_type": "code",
   "execution_count": 79,
   "id": "76ada6a7",
   "metadata": {},
   "outputs": [
    {
     "data": {
      "text/plain": [
       "(0.9748549323017408, 0.9745762711864406)"
      ]
     },
     "execution_count": 79,
     "metadata": {},
     "output_type": "execute_result"
    }
   ],
   "source": [
    "train_classifier(svc,X_train,Y_train,X_test,Y_test)"
   ]
  },
  {
   "cell_type": "code",
   "execution_count": 80,
   "id": "7a19a3f8",
   "metadata": {},
   "outputs": [
    {
     "data": {
      "text/plain": [
       "(0.9052224371373307, 1.0)"
      ]
     },
     "execution_count": 80,
     "metadata": {},
     "output_type": "execute_result"
    }
   ],
   "source": [
    "train_classifier(knc,X_train,Y_train,X_test,Y_test)"
   ]
  },
  {
   "cell_type": "code",
   "execution_count": 81,
   "id": "6cdfbdea",
   "metadata": {},
   "outputs": [
    {
     "name": "stdout",
     "output_type": "stream",
     "text": [
      "For  SVC\n",
      "Accuracy -  0.9748549323017408\n",
      "Precision -  0.9745762711864406\n",
      "For  KN\n",
      "Accuracy -  0.9052224371373307\n",
      "Precision -  1.0\n",
      "For  NB\n",
      "Accuracy -  0.971953578336557\n",
      "Precision -  1.0\n",
      "For  DT\n",
      "Accuracy -  0.9323017408123792\n",
      "Precision -  0.8333333333333334\n",
      "For  LR\n",
      "Accuracy -  0.9564796905222437\n",
      "Precision -  0.9696969696969697\n",
      "For  RF\n",
      "Accuracy -  0.9758220502901354\n",
      "Precision -  0.9829059829059829\n",
      "For  AdaBoost\n",
      "Accuracy -  0.9613152804642167\n",
      "Precision -  0.9454545454545454\n",
      "For  BgC\n",
      "Accuracy -  0.9593810444874274\n",
      "Precision -  0.8692307692307693\n",
      "For  ETC\n",
      "Accuracy -  0.9796905222437138\n",
      "Precision -  0.975609756097561\n",
      "For  GBDT\n",
      "Accuracy -  0.9468085106382979\n",
      "Precision -  0.9278350515463918\n",
      "For  xgb\n",
      "Accuracy -  0.9680851063829787\n",
      "Precision -  0.9338842975206612\n"
     ]
    }
   ],
   "source": [
    "accuracy_scores = []\n",
    "precision_scores = []\n",
    "\n",
    "for name,clf in clfs.items():\n",
    "    \n",
    "    current_accuracy,current_precision = train_classifier(clf, X_train,Y_train,X_test,Y_test)\n",
    "    \n",
    "    print(\"For \",name)\n",
    "    print(\"Accuracy - \",current_accuracy)\n",
    "    print(\"Precision - \",current_precision)\n",
    "    \n",
    "    accuracy_scores.append(current_accuracy)\n",
    "    precision_scores.append(current_precision)"
   ]
  },
  {
   "cell_type": "code",
   "execution_count": 82,
   "id": "52383835",
   "metadata": {},
   "outputs": [
    {
     "data": {
      "text/html": [
       "<div>\n",
       "<style scoped>\n",
       "    .dataframe tbody tr th:only-of-type {\n",
       "        vertical-align: middle;\n",
       "    }\n",
       "\n",
       "    .dataframe tbody tr th {\n",
       "        vertical-align: top;\n",
       "    }\n",
       "\n",
       "    .dataframe thead th {\n",
       "        text-align: right;\n",
       "    }\n",
       "</style>\n",
       "<table border=\"1\" class=\"dataframe\">\n",
       "  <thead>\n",
       "    <tr style=\"text-align: right;\">\n",
       "      <th></th>\n",
       "      <th>Algorithm</th>\n",
       "      <th>Accuracy</th>\n",
       "      <th>Precision</th>\n",
       "    </tr>\n",
       "  </thead>\n",
       "  <tbody>\n",
       "    <tr>\n",
       "      <th>1</th>\n",
       "      <td>KN</td>\n",
       "      <td>0.905222</td>\n",
       "      <td>1.000000</td>\n",
       "    </tr>\n",
       "    <tr>\n",
       "      <th>2</th>\n",
       "      <td>NB</td>\n",
       "      <td>0.971954</td>\n",
       "      <td>1.000000</td>\n",
       "    </tr>\n",
       "    <tr>\n",
       "      <th>5</th>\n",
       "      <td>RF</td>\n",
       "      <td>0.975822</td>\n",
       "      <td>0.982906</td>\n",
       "    </tr>\n",
       "    <tr>\n",
       "      <th>8</th>\n",
       "      <td>ETC</td>\n",
       "      <td>0.979691</td>\n",
       "      <td>0.975610</td>\n",
       "    </tr>\n",
       "    <tr>\n",
       "      <th>0</th>\n",
       "      <td>SVC</td>\n",
       "      <td>0.974855</td>\n",
       "      <td>0.974576</td>\n",
       "    </tr>\n",
       "    <tr>\n",
       "      <th>4</th>\n",
       "      <td>LR</td>\n",
       "      <td>0.956480</td>\n",
       "      <td>0.969697</td>\n",
       "    </tr>\n",
       "    <tr>\n",
       "      <th>6</th>\n",
       "      <td>AdaBoost</td>\n",
       "      <td>0.961315</td>\n",
       "      <td>0.945455</td>\n",
       "    </tr>\n",
       "    <tr>\n",
       "      <th>10</th>\n",
       "      <td>xgb</td>\n",
       "      <td>0.968085</td>\n",
       "      <td>0.933884</td>\n",
       "    </tr>\n",
       "    <tr>\n",
       "      <th>9</th>\n",
       "      <td>GBDT</td>\n",
       "      <td>0.946809</td>\n",
       "      <td>0.927835</td>\n",
       "    </tr>\n",
       "    <tr>\n",
       "      <th>7</th>\n",
       "      <td>BgC</td>\n",
       "      <td>0.959381</td>\n",
       "      <td>0.869231</td>\n",
       "    </tr>\n",
       "    <tr>\n",
       "      <th>3</th>\n",
       "      <td>DT</td>\n",
       "      <td>0.932302</td>\n",
       "      <td>0.833333</td>\n",
       "    </tr>\n",
       "  </tbody>\n",
       "</table>\n",
       "</div>"
      ],
      "text/plain": [
       "   Algorithm  Accuracy  Precision\n",
       "1         KN  0.905222   1.000000\n",
       "2         NB  0.971954   1.000000\n",
       "5         RF  0.975822   0.982906\n",
       "8        ETC  0.979691   0.975610\n",
       "0        SVC  0.974855   0.974576\n",
       "4         LR  0.956480   0.969697\n",
       "6   AdaBoost  0.961315   0.945455\n",
       "10       xgb  0.968085   0.933884\n",
       "9       GBDT  0.946809   0.927835\n",
       "7        BgC  0.959381   0.869231\n",
       "3         DT  0.932302   0.833333"
      ]
     },
     "execution_count": 82,
     "metadata": {},
     "output_type": "execute_result"
    }
   ],
   "source": [
    "performance_df = pd.DataFrame({'Algorithm':clfs.keys(),'Accuracy':accuracy_scores,'Precision':precision_scores}).sort_values('Precision',ascending=False)\n",
    "performance_df"
   ]
  },
  {
   "cell_type": "code",
   "execution_count": 83,
   "id": "121d46a9",
   "metadata": {},
   "outputs": [
    {
     "data": {
      "text/html": [
       "<div>\n",
       "<style scoped>\n",
       "    .dataframe tbody tr th:only-of-type {\n",
       "        vertical-align: middle;\n",
       "    }\n",
       "\n",
       "    .dataframe tbody tr th {\n",
       "        vertical-align: top;\n",
       "    }\n",
       "\n",
       "    .dataframe thead th {\n",
       "        text-align: right;\n",
       "    }\n",
       "</style>\n",
       "<table border=\"1\" class=\"dataframe\">\n",
       "  <thead>\n",
       "    <tr style=\"text-align: right;\">\n",
       "      <th></th>\n",
       "      <th>Algorithm</th>\n",
       "      <th>variable</th>\n",
       "      <th>value</th>\n",
       "    </tr>\n",
       "  </thead>\n",
       "  <tbody>\n",
       "    <tr>\n",
       "      <th>0</th>\n",
       "      <td>KN</td>\n",
       "      <td>Accuracy</td>\n",
       "      <td>0.905222</td>\n",
       "    </tr>\n",
       "    <tr>\n",
       "      <th>1</th>\n",
       "      <td>NB</td>\n",
       "      <td>Accuracy</td>\n",
       "      <td>0.971954</td>\n",
       "    </tr>\n",
       "    <tr>\n",
       "      <th>2</th>\n",
       "      <td>RF</td>\n",
       "      <td>Accuracy</td>\n",
       "      <td>0.975822</td>\n",
       "    </tr>\n",
       "    <tr>\n",
       "      <th>3</th>\n",
       "      <td>ETC</td>\n",
       "      <td>Accuracy</td>\n",
       "      <td>0.979691</td>\n",
       "    </tr>\n",
       "    <tr>\n",
       "      <th>4</th>\n",
       "      <td>SVC</td>\n",
       "      <td>Accuracy</td>\n",
       "      <td>0.974855</td>\n",
       "    </tr>\n",
       "    <tr>\n",
       "      <th>5</th>\n",
       "      <td>LR</td>\n",
       "      <td>Accuracy</td>\n",
       "      <td>0.956480</td>\n",
       "    </tr>\n",
       "    <tr>\n",
       "      <th>6</th>\n",
       "      <td>AdaBoost</td>\n",
       "      <td>Accuracy</td>\n",
       "      <td>0.961315</td>\n",
       "    </tr>\n",
       "    <tr>\n",
       "      <th>7</th>\n",
       "      <td>xgb</td>\n",
       "      <td>Accuracy</td>\n",
       "      <td>0.968085</td>\n",
       "    </tr>\n",
       "    <tr>\n",
       "      <th>8</th>\n",
       "      <td>GBDT</td>\n",
       "      <td>Accuracy</td>\n",
       "      <td>0.946809</td>\n",
       "    </tr>\n",
       "    <tr>\n",
       "      <th>9</th>\n",
       "      <td>BgC</td>\n",
       "      <td>Accuracy</td>\n",
       "      <td>0.959381</td>\n",
       "    </tr>\n",
       "    <tr>\n",
       "      <th>10</th>\n",
       "      <td>DT</td>\n",
       "      <td>Accuracy</td>\n",
       "      <td>0.932302</td>\n",
       "    </tr>\n",
       "    <tr>\n",
       "      <th>11</th>\n",
       "      <td>KN</td>\n",
       "      <td>Precision</td>\n",
       "      <td>1.000000</td>\n",
       "    </tr>\n",
       "    <tr>\n",
       "      <th>12</th>\n",
       "      <td>NB</td>\n",
       "      <td>Precision</td>\n",
       "      <td>1.000000</td>\n",
       "    </tr>\n",
       "    <tr>\n",
       "      <th>13</th>\n",
       "      <td>RF</td>\n",
       "      <td>Precision</td>\n",
       "      <td>0.982906</td>\n",
       "    </tr>\n",
       "    <tr>\n",
       "      <th>14</th>\n",
       "      <td>ETC</td>\n",
       "      <td>Precision</td>\n",
       "      <td>0.975610</td>\n",
       "    </tr>\n",
       "    <tr>\n",
       "      <th>15</th>\n",
       "      <td>SVC</td>\n",
       "      <td>Precision</td>\n",
       "      <td>0.974576</td>\n",
       "    </tr>\n",
       "    <tr>\n",
       "      <th>16</th>\n",
       "      <td>LR</td>\n",
       "      <td>Precision</td>\n",
       "      <td>0.969697</td>\n",
       "    </tr>\n",
       "    <tr>\n",
       "      <th>17</th>\n",
       "      <td>AdaBoost</td>\n",
       "      <td>Precision</td>\n",
       "      <td>0.945455</td>\n",
       "    </tr>\n",
       "    <tr>\n",
       "      <th>18</th>\n",
       "      <td>xgb</td>\n",
       "      <td>Precision</td>\n",
       "      <td>0.933884</td>\n",
       "    </tr>\n",
       "    <tr>\n",
       "      <th>19</th>\n",
       "      <td>GBDT</td>\n",
       "      <td>Precision</td>\n",
       "      <td>0.927835</td>\n",
       "    </tr>\n",
       "    <tr>\n",
       "      <th>20</th>\n",
       "      <td>BgC</td>\n",
       "      <td>Precision</td>\n",
       "      <td>0.869231</td>\n",
       "    </tr>\n",
       "    <tr>\n",
       "      <th>21</th>\n",
       "      <td>DT</td>\n",
       "      <td>Precision</td>\n",
       "      <td>0.833333</td>\n",
       "    </tr>\n",
       "  </tbody>\n",
       "</table>\n",
       "</div>"
      ],
      "text/plain": [
       "   Algorithm   variable     value\n",
       "0         KN   Accuracy  0.905222\n",
       "1         NB   Accuracy  0.971954\n",
       "2         RF   Accuracy  0.975822\n",
       "3        ETC   Accuracy  0.979691\n",
       "4        SVC   Accuracy  0.974855\n",
       "5         LR   Accuracy  0.956480\n",
       "6   AdaBoost   Accuracy  0.961315\n",
       "7        xgb   Accuracy  0.968085\n",
       "8       GBDT   Accuracy  0.946809\n",
       "9        BgC   Accuracy  0.959381\n",
       "10        DT   Accuracy  0.932302\n",
       "11        KN  Precision  1.000000\n",
       "12        NB  Precision  1.000000\n",
       "13        RF  Precision  0.982906\n",
       "14       ETC  Precision  0.975610\n",
       "15       SVC  Precision  0.974576\n",
       "16        LR  Precision  0.969697\n",
       "17  AdaBoost  Precision  0.945455\n",
       "18       xgb  Precision  0.933884\n",
       "19      GBDT  Precision  0.927835\n",
       "20       BgC  Precision  0.869231\n",
       "21        DT  Precision  0.833333"
      ]
     },
     "execution_count": 83,
     "metadata": {},
     "output_type": "execute_result"
    }
   ],
   "source": [
    "performance_df1 = pd.melt(performance_df, id_vars = \"Algorithm\")\n",
    "performance_df1"
   ]
  },
  {
   "cell_type": "code",
   "execution_count": 84,
   "id": "52a47c35",
   "metadata": {},
   "outputs": [
    {
     "data": {
      "image/png": "[encoded data removed]",
      "text/plain": [
       "<Figure size 441.75x360 with 1 Axes>"
      ]
     },
     "metadata": {
      "needs_background": "light"
     },
     "output_type": "display_data"
    }
   ],
   "source": [
    "sns.catplot(x = 'Algorithm', y='value', \n",
    "               hue = 'variable',data=performance_df1, kind='bar',height=5)\n",
    "plt.ylim(0.5,1.0)\n",
    "plt.xticks(rotation='vertical')\n",
    "plt.show()"
   ]
  },
  {
   "cell_type": "code",
   "execution_count": 85,
   "id": "df793623",
   "metadata": {},
   "outputs": [],
   "source": [
    "## comparing top 3 classifiers\n",
    "## voting_classifier(It is the combination of multiple classifiers with equal weightage)\n",
    "## Here the results might be better than individual classifiers\n",
    "\n",
    "svc = SVC(kernel='sigmoid', gamma=1.0,probability=True)\n",
    "mnb = MultinomialNB()\n",
    "etc = ExtraTreesClassifier(n_estimators=50, random_state=2)\n",
    "\n",
    "from sklearn.ensemble import VotingClassifier"
   ]
  },
  {
   "cell_type": "code",
   "execution_count": 86,
   "id": "9c42e509",
   "metadata": {},
   "outputs": [
    {
     "data": {
      "text/html": [
       "<style>#sk-container-id-1 {color: black;background-color: white;}#sk-container-id-1 pre{padding: 0;}#sk-container-id-1 div.sk-toggleable {background-color: white;}#sk-container-id-1 label.sk-toggleable__label {cursor: pointer;display: block;width: 100%;margin-bottom: 0;padding: 0.3em;box-sizing: border-box;text-align: center;}#sk-container-id-1 label.sk-toggleable__label-arrow:before {content: \"▸\";float: left;margin-right: 0.25em;color: #696969;}#sk-container-id-1 label.sk-toggleable__label-arrow:hover:before {color: black;}#sk-container-id-1 div.sk-estimator:hover label.sk-toggleable__label-arrow:before {color: black;}#sk-container-id-1 div.sk-toggleable__content {max-height: 0;max-width: 0;overflow: hidden;text-align: left;background-color: #f0f8ff;}#sk-container-id-1 div.sk-toggleable__content pre {margin: 0.2em;color: black;border-radius: 0.25em;background-color: #f0f8ff;}#sk-container-id-1 input.sk-toggleable__control:checked~div.sk-toggleable__content {max-height: 200px;max-width: 100%;overflow: auto;}#sk-container-id-1 input.sk-toggleable__control:checked~label.sk-toggleable__label-arrow:before {content: \"▾\";}#sk-container-id-1 div.sk-estimator input.sk-toggleable__control:checked~label.sk-toggleable__label {background-color: #d4ebff;}#sk-container-id-1 div.sk-label input.sk-toggleable__control:checked~label.sk-toggleable__label {background-color: #d4ebff;}#sk-container-id-1 input.sk-hidden--visually {border: 0;clip: rect(1px 1px 1px 1px);clip: rect(1px, 1px, 1px, 1px);height: 1px;margin: -1px;overflow: hidden;padding: 0;position: absolute;width: 1px;}#sk-container-id-1 div.sk-estimator {font-family: monospace;background-color: #f0f8ff;border: 1px dotted black;border-radius: 0.25em;box-sizing: border-box;margin-bottom: 0.5em;}#sk-container-id-1 div.sk-estimator:hover {background-color: #d4ebff;}#sk-container-id-1 div.sk-parallel-item::after {content: \"\";width: 100%;border-bottom: 1px solid gray;flex-grow: 1;}#sk-container-id-1 div.sk-label:hover label.sk-toggleable__label {background-color: #d4ebff;}#sk-container-id-1 div.sk-serial::before {content: \"\";position: absolute;border-left: 1px solid gray;box-sizing: border-box;top: 0;bottom: 0;left: 50%;z-index: 0;}#sk-container-id-1 div.sk-serial {display: flex;flex-direction: column;align-items: center;background-color: white;padding-right: 0.2em;padding-left: 0.2em;position: relative;}#sk-container-id-1 div.sk-item {position: relative;z-index: 1;}#sk-container-id-1 div.sk-parallel {display: flex;align-items: stretch;justify-content: center;background-color: white;position: relative;}#sk-container-id-1 div.sk-item::before, #sk-container-id-1 div.sk-parallel-item::before {content: \"\";position: absolute;border-left: 1px solid gray;box-sizing: border-box;top: 0;bottom: 0;left: 50%;z-index: -1;}#sk-container-id-1 div.sk-parallel-item {display: flex;flex-direction: column;z-index: 1;position: relative;background-color: white;}#sk-container-id-1 div.sk-parallel-item:first-child::after {align-self: flex-end;width: 50%;}#sk-container-id-1 div.sk-parallel-item:last-child::after {align-self: flex-start;width: 50%;}#sk-container-id-1 div.sk-parallel-item:only-child::after {width: 0;}#sk-container-id-1 div.sk-dashed-wrapped {border: 1px dashed gray;margin: 0 0.4em 0.5em 0.4em;box-sizing: border-box;padding-bottom: 0.4em;background-color: white;}#sk-container-id-1 div.sk-label label {font-family: monospace;font-weight: bold;display: inline-block;line-height: 1.2em;}#sk-container-id-1 div.sk-label-container {text-align: center;}#sk-container-id-1 div.sk-container {/* jupyter's `normalize.less` sets `[hidden] { display: none; }` but bootstrap.min.css set `[hidden] { display: none !important; }` so we also need the `!important` here to be able to override the default hidden behavior on the sphinx rendered scikit-learn.org. See: https://github.com/scikit-learn/scikit-learn/issues/21755 */display: inline-block !important;position: relative;}#sk-container-id-1 div.sk-text-repr-fallback {display: none;}</style><div id=\"sk-container-id-1\" class=\"sk-top-container\"><div class=\"sk-text-repr-fallback\"><pre>VotingClassifier(estimators=[(&#x27;svm&#x27;,\n",
       "                              SVC(gamma=1.0, kernel=&#x27;sigmoid&#x27;,\n",
       "                                  probability=True)),\n",
       "                             (&#x27;nb&#x27;, MultinomialNB()),\n",
       "                             (&#x27;et&#x27;,\n",
       "                              ExtraTreesClassifier(n_estimators=50,\n",
       "                                                   random_state=2))],\n",
       "                 voting=&#x27;soft&#x27;)</pre><b>In a Jupyter environment, please rerun this cell to show the HTML representation or trust the notebook. <br />On GitHub, the HTML representation is unable to render, please try loading this page with nbviewer.org.</b></div><div class=\"sk-container\" hidden><div class=\"sk-item sk-dashed-wrapped\"><div class=\"sk-label-container\"><div class=\"sk-label sk-toggleable\"><input class=\"sk-toggleable__control sk-hidden--visually\" id=\"sk-estimator-id-1\" type=\"checkbox\" ><label for=\"sk-estimator-id-1\" class=\"sk-toggleable__label sk-toggleable__label-arrow\">VotingClassifier</label><div class=\"sk-toggleable__content\"><pre>VotingClassifier(estimators=[(&#x27;svm&#x27;,\n",
       "                              SVC(gamma=1.0, kernel=&#x27;sigmoid&#x27;,\n",
       "                                  probability=True)),\n",
       "                             (&#x27;nb&#x27;, MultinomialNB()),\n",
       "                             (&#x27;et&#x27;,\n",
       "                              ExtraTreesClassifier(n_estimators=50,\n",
       "                                                   random_state=2))],\n",
       "                 voting=&#x27;soft&#x27;)</pre></div></div></div><div class=\"sk-parallel\"><div class=\"sk-parallel-item\"><div class=\"sk-item\"><div class=\"sk-label-container\"><div class=\"sk-label sk-toggleable\"><label>svm</label></div></div><div class=\"sk-serial\"><div class=\"sk-item\"><div class=\"sk-estimator sk-toggleable\"><input class=\"sk-toggleable__control sk-hidden--visually\" id=\"sk-estimator-id-2\" type=\"checkbox\" ><label for=\"sk-estimator-id-2\" class=\"sk-toggleable__label sk-toggleable__label-arrow\">SVC</label><div class=\"sk-toggleable__content\"><pre>SVC(gamma=1.0, kernel=&#x27;sigmoid&#x27;, probability=True)</pre></div></div></div></div></div></div><div class=\"sk-parallel-item\"><div class=\"sk-item\"><div class=\"sk-label-container\"><div class=\"sk-label sk-toggleable\"><label>nb</label></div></div><div class=\"sk-serial\"><div class=\"sk-item\"><div class=\"sk-estimator sk-toggleable\"><input class=\"sk-toggleable__control sk-hidden--visually\" id=\"sk-estimator-id-3\" type=\"checkbox\" ><label for=\"sk-estimator-id-3\" class=\"sk-toggleable__label sk-toggleable__label-arrow\">MultinomialNB</label><div class=\"sk-toggleable__content\"><pre>MultinomialNB()</pre></div></div></div></div></div></div><div class=\"sk-parallel-item\"><div class=\"sk-item\"><div class=\"sk-label-container\"><div class=\"sk-label sk-toggleable\"><label>et</label></div></div><div class=\"sk-serial\"><div class=\"sk-item\"><div class=\"sk-estimator sk-toggleable\"><input class=\"sk-toggleable__control sk-hidden--visually\" id=\"sk-estimator-id-4\" type=\"checkbox\" ><label for=\"sk-estimator-id-4\" class=\"sk-toggleable__label sk-toggleable__label-arrow\">ExtraTreesClassifier</label><div class=\"sk-toggleable__content\"><pre>ExtraTreesClassifier(n_estimators=50, random_state=2)</pre></div></div></div></div></div></div></div></div></div></div>"
      ],
      "text/plain": [
       "VotingClassifier(estimators=[('svm',\n",
       "                              SVC(gamma=1.0, kernel='sigmoid',\n",
       "                                  probability=True)),\n",
       "                             ('nb', MultinomialNB()),\n",
       "                             ('et',\n",
       "                              ExtraTreesClassifier(n_estimators=50,\n",
       "                                                   random_state=2))],\n",
       "                 voting='soft')"
      ]
     },
     "execution_count": 86,
     "metadata": {},
     "output_type": "execute_result"
    }
   ],
   "source": [
    "voting = VotingClassifier(estimators=[('svm', svc), ('nb', mnb), ('et', etc)],voting='soft')\n",
    "voting.fit(X_train,Y_train)"
   ]
  },
  {
   "cell_type": "code",
   "execution_count": 87,
   "id": "614cf541",
   "metadata": {},
   "outputs": [
    {
     "name": "stdout",
     "output_type": "stream",
     "text": [
      "Accuracy 0.9816247582205029\n",
      "Precision 0.9917355371900827\n"
     ]
    }
   ],
   "source": [
    "## VOting_classifier predictions\n",
    "y_pred = voting.predict(X_test)\n",
    "print(\"Accuracy\",accuracy_score(Y_test,y_pred))\n",
    "print(\"Precision\",precision_score(Y_test,y_pred))"
   ]
  },
  {
   "cell_type": "raw",
   "id": "4d3edd6a",
   "metadata": {},
   "source": [
    "Since the results not much better than etc classifier we can also try applying stacking.\n",
    "In stacking, it is also the combination of multiple classifiers but the weightage depends on teh random classifier, weightage varies based on the precision or some other factors."
   ]
  },
  {
   "cell_type": "code",
   "execution_count": 88,
   "id": "acab3437",
   "metadata": {},
   "outputs": [],
   "source": [
    "# Applying stacking\n",
    "\n",
    "estimators=[('svm', svc), ('nb', mnb), ('et', etc)]\n",
    "\n",
    "final_estimator=RandomForestClassifier()\n",
    "\n",
    "from sklearn.ensemble import StackingClassifier\n",
    "clf = StackingClassifier(estimators=estimators, final_estimator=final_estimator)"
   ]
  },
  {
   "cell_type": "code",
   "execution_count": 89,
   "id": "157ef6f8",
   "metadata": {},
   "outputs": [
    {
     "name": "stdout",
     "output_type": "stream",
     "text": [
      "Accuracy 0.9796905222437138\n",
      "Precision 0.9398496240601504\n"
     ]
    }
   ],
   "source": [
    "clf.fit(X_train,Y_train)\n",
    "y_pred = clf.predict(X_test)\n",
    "print(\"Accuracy\",accuracy_score(Y_test,y_pred))\n",
    "print(\"Precision\",precision_score(Y_test,y_pred))"
   ]
  },
  {
   "cell_type": "raw",
   "id": "f96cc79d",
   "metadata": {},
   "source": [
    "Even the stacking is not giving desired outcomes. we can stick to multinomial naive bayes for our predictions."
   ]
  },
  {
   "cell_type": "code",
   "execution_count": 90,
   "id": "966f6b47",
   "metadata": {},
   "outputs": [],
   "source": [
    "##modeling pipeline for the use of website\n",
    "\n",
    "import pickle\n",
    "pickle.dump(tfidf,open('vectorizer.pkl','wb'))\n",
    "pickle.dump(mnb,open('model.pkl','wb'))  \n",
    "\n",
    "\n",
    "## wb-->write binary"
   ]
  },
  {
   "cell_type": "code",
   "execution_count": null,
   "id": "c992930d",
   "metadata": {},
   "outputs": [],
   "source": []
  }
 ],
 "metadata": {
  "kernelspec": {
   "display_name": "Python 3",
   "language": "python",
   "name": "python3"
  },
  "language_info": {
   "codemirror_mode": {
    "name": "ipython",
    "version": 3
   },
   "file_extension": ".py",
   "mimetype": "text/x-python",
   "name": "python",
   "nbconvert_exporter": "python",
   "pygments_lexer": "ipython3",
   "version": "3.8.8"
  }
 },
 "nbformat": 4,
 "nbformat_minor": 5
}
